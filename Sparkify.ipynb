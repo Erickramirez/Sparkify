{
 "cells": [
  {
   "cell_type": "markdown",
   "metadata": {},
   "source": [
    "# Sparkify Project Workspace\n",
    "This workspace contains a tiny subset (128MB) of the full dataset available (12GB). Feel free to use this workspace to build your project, or to explore a smaller subset with Spark before deploying your cluster on the cloud. Instructions for setting up your Spark cluster is included in the last lesson of the Extracurricular Spark Course content.\n",
    "\n",
    "You can follow the steps below to guide your data analysis and model building portion of this project."
   ]
  },
  {
   "cell_type": "code",
   "execution_count": 1,
   "metadata": {},
   "outputs": [],
   "source": [
    "# import libraries\n",
    "from pyspark.sql import SparkSession, Window\n",
    "import matplotlib.pyplot as plt\n",
    "import seaborn as sns\n",
    "from pyspark.sql.functions import udf,count,when,isnan,col,avg,stddev,max,min\n",
    "from pyspark.sql.types import IntegerType,StringType,DoubleType\n",
    "from pyspark.ml.feature import MinMaxScaler,VectorAssembler\n",
    "from pyspark.ml import Pipeline\n",
    "\n",
    "from pyspark.sql import functions as F\n",
    "from user_agents import parse # pip install pyyaml ua-parser user-agents\n",
    "from functools import reduce\n",
    "import calendar\n",
    "\n",
    "from sklearn import preprocessing\n",
    "import pandas as pd\n",
    "\n",
    "import re\n",
    "import time\n",
    "\n",
    "%matplotlib inline"
   ]
  },
  {
   "cell_type": "code",
   "execution_count": 2,
   "metadata": {},
   "outputs": [],
   "source": [
    "from pyspark.ml.classification import DecisionTreeClassifier\n",
    "from pyspark.ml.classification import RandomForestClassifier\n",
    "from pyspark.ml.classification import GBTClassifier\n",
    "from pyspark.ml.classification import LinearSVC\n",
    "from pyspark.ml.evaluation import MulticlassClassificationEvaluator\n",
    "from statsmodels.stats.proportion import proportions_ztest"
   ]
  },
  {
   "cell_type": "code",
   "execution_count": 3,
   "metadata": {},
   "outputs": [],
   "source": [
    "# create a Spark session\n",
    "spark = SparkSession \\\n",
    "        .builder \\\n",
    "        .master(\"local[*]\") \\\n",
    "        .config(\"spark.ui.port\",3000) \\\n",
    "        .appName(\"Sparkify\") \\\n",
    "        .getOrCreate()"
   ]
  },
  {
   "cell_type": "markdown",
   "metadata": {},
   "source": [
    "# Load and Clean Dataset\n",
    "In this workspace, the mini-dataset file is `mini_sparkify_event_data.json`. Load and clean the dataset, checking for invalid or missing data - for example, records without userids or sessionids. "
   ]
  },
  {
   "cell_type": "markdown",
   "metadata": {},
   "source": [
    "### Load data"
   ]
  },
  {
   "cell_type": "code",
   "execution_count": 4,
   "metadata": {},
   "outputs": [],
   "source": [
    "df = spark.read.json('mini_sparkify_event_data.json')"
   ]
  },
  {
   "cell_type": "code",
   "execution_count": 5,
   "metadata": {},
   "outputs": [
    {
     "data": {
      "text/html": [
       "<div>\n",
       "<style scoped>\n",
       "    .dataframe tbody tr th:only-of-type {\n",
       "        vertical-align: middle;\n",
       "    }\n",
       "\n",
       "    .dataframe tbody tr th {\n",
       "        vertical-align: top;\n",
       "    }\n",
       "\n",
       "    .dataframe thead th {\n",
       "        text-align: right;\n",
       "    }\n",
       "</style>\n",
       "<table border=\"1\" class=\"dataframe\">\n",
       "  <thead>\n",
       "    <tr style=\"text-align: right;\">\n",
       "      <th></th>\n",
       "      <th>artist</th>\n",
       "      <th>auth</th>\n",
       "      <th>firstName</th>\n",
       "      <th>gender</th>\n",
       "      <th>itemInSession</th>\n",
       "      <th>lastName</th>\n",
       "      <th>length</th>\n",
       "      <th>level</th>\n",
       "      <th>location</th>\n",
       "      <th>method</th>\n",
       "      <th>page</th>\n",
       "      <th>registration</th>\n",
       "      <th>sessionId</th>\n",
       "      <th>song</th>\n",
       "      <th>status</th>\n",
       "      <th>ts</th>\n",
       "      <th>userAgent</th>\n",
       "      <th>userId</th>\n",
       "    </tr>\n",
       "  </thead>\n",
       "  <tbody>\n",
       "    <tr>\n",
       "      <th>0</th>\n",
       "      <td>Martha Tilston</td>\n",
       "      <td>Logged In</td>\n",
       "      <td>Colin</td>\n",
       "      <td>M</td>\n",
       "      <td>50</td>\n",
       "      <td>Freeman</td>\n",
       "      <td>277.89016</td>\n",
       "      <td>paid</td>\n",
       "      <td>Bakersfield, CA</td>\n",
       "      <td>PUT</td>\n",
       "      <td>NextSong</td>\n",
       "      <td>1538173362000</td>\n",
       "      <td>29</td>\n",
       "      <td>Rockpools</td>\n",
       "      <td>200</td>\n",
       "      <td>1538352117000</td>\n",
       "      <td>Mozilla/5.0 (Windows NT 6.1; WOW64; rv:31.0) G...</td>\n",
       "      <td>30</td>\n",
       "    </tr>\n",
       "    <tr>\n",
       "      <th>1</th>\n",
       "      <td>Five Iron Frenzy</td>\n",
       "      <td>Logged In</td>\n",
       "      <td>Micah</td>\n",
       "      <td>M</td>\n",
       "      <td>79</td>\n",
       "      <td>Long</td>\n",
       "      <td>236.09424</td>\n",
       "      <td>free</td>\n",
       "      <td>Boston-Cambridge-Newton, MA-NH</td>\n",
       "      <td>PUT</td>\n",
       "      <td>NextSong</td>\n",
       "      <td>1538331630000</td>\n",
       "      <td>8</td>\n",
       "      <td>Canada</td>\n",
       "      <td>200</td>\n",
       "      <td>1538352180000</td>\n",
       "      <td>\"Mozilla/5.0 (Windows NT 6.1; WOW64) AppleWebK...</td>\n",
       "      <td>9</td>\n",
       "    </tr>\n",
       "    <tr>\n",
       "      <th>2</th>\n",
       "      <td>Adam Lambert</td>\n",
       "      <td>Logged In</td>\n",
       "      <td>Colin</td>\n",
       "      <td>M</td>\n",
       "      <td>51</td>\n",
       "      <td>Freeman</td>\n",
       "      <td>282.82730</td>\n",
       "      <td>paid</td>\n",
       "      <td>Bakersfield, CA</td>\n",
       "      <td>PUT</td>\n",
       "      <td>NextSong</td>\n",
       "      <td>1538173362000</td>\n",
       "      <td>29</td>\n",
       "      <td>Time For Miracles</td>\n",
       "      <td>200</td>\n",
       "      <td>1538352394000</td>\n",
       "      <td>Mozilla/5.0 (Windows NT 6.1; WOW64; rv:31.0) G...</td>\n",
       "      <td>30</td>\n",
       "    </tr>\n",
       "    <tr>\n",
       "      <th>3</th>\n",
       "      <td>Enigma</td>\n",
       "      <td>Logged In</td>\n",
       "      <td>Micah</td>\n",
       "      <td>M</td>\n",
       "      <td>80</td>\n",
       "      <td>Long</td>\n",
       "      <td>262.71302</td>\n",
       "      <td>free</td>\n",
       "      <td>Boston-Cambridge-Newton, MA-NH</td>\n",
       "      <td>PUT</td>\n",
       "      <td>NextSong</td>\n",
       "      <td>1538331630000</td>\n",
       "      <td>8</td>\n",
       "      <td>Knocking On Forbidden Doors</td>\n",
       "      <td>200</td>\n",
       "      <td>1538352416000</td>\n",
       "      <td>\"Mozilla/5.0 (Windows NT 6.1; WOW64) AppleWebK...</td>\n",
       "      <td>9</td>\n",
       "    </tr>\n",
       "    <tr>\n",
       "      <th>4</th>\n",
       "      <td>Daft Punk</td>\n",
       "      <td>Logged In</td>\n",
       "      <td>Colin</td>\n",
       "      <td>M</td>\n",
       "      <td>52</td>\n",
       "      <td>Freeman</td>\n",
       "      <td>223.60771</td>\n",
       "      <td>paid</td>\n",
       "      <td>Bakersfield, CA</td>\n",
       "      <td>PUT</td>\n",
       "      <td>NextSong</td>\n",
       "      <td>1538173362000</td>\n",
       "      <td>29</td>\n",
       "      <td>Harder Better Faster Stronger</td>\n",
       "      <td>200</td>\n",
       "      <td>1538352676000</td>\n",
       "      <td>Mozilla/5.0 (Windows NT 6.1; WOW64; rv:31.0) G...</td>\n",
       "      <td>30</td>\n",
       "    </tr>\n",
       "  </tbody>\n",
       "</table>\n",
       "</div>"
      ],
      "text/plain": [
       "             artist       auth firstName gender  itemInSession lastName  \\\n",
       "0    Martha Tilston  Logged In     Colin      M             50  Freeman   \n",
       "1  Five Iron Frenzy  Logged In     Micah      M             79     Long   \n",
       "2      Adam Lambert  Logged In     Colin      M             51  Freeman   \n",
       "3            Enigma  Logged In     Micah      M             80     Long   \n",
       "4         Daft Punk  Logged In     Colin      M             52  Freeman   \n",
       "\n",
       "      length level                        location method      page  \\\n",
       "0  277.89016  paid                 Bakersfield, CA    PUT  NextSong   \n",
       "1  236.09424  free  Boston-Cambridge-Newton, MA-NH    PUT  NextSong   \n",
       "2  282.82730  paid                 Bakersfield, CA    PUT  NextSong   \n",
       "3  262.71302  free  Boston-Cambridge-Newton, MA-NH    PUT  NextSong   \n",
       "4  223.60771  paid                 Bakersfield, CA    PUT  NextSong   \n",
       "\n",
       "    registration  sessionId                           song  status  \\\n",
       "0  1538173362000         29                      Rockpools     200   \n",
       "1  1538331630000          8                         Canada     200   \n",
       "2  1538173362000         29              Time For Miracles     200   \n",
       "3  1538331630000          8    Knocking On Forbidden Doors     200   \n",
       "4  1538173362000         29  Harder Better Faster Stronger     200   \n",
       "\n",
       "              ts                                          userAgent userId  \n",
       "0  1538352117000  Mozilla/5.0 (Windows NT 6.1; WOW64; rv:31.0) G...     30  \n",
       "1  1538352180000  \"Mozilla/5.0 (Windows NT 6.1; WOW64) AppleWebK...      9  \n",
       "2  1538352394000  Mozilla/5.0 (Windows NT 6.1; WOW64; rv:31.0) G...     30  \n",
       "3  1538352416000  \"Mozilla/5.0 (Windows NT 6.1; WOW64) AppleWebK...      9  \n",
       "4  1538352676000  Mozilla/5.0 (Windows NT 6.1; WOW64; rv:31.0) G...     30  "
      ]
     },
     "execution_count": 5,
     "metadata": {},
     "output_type": "execute_result"
    }
   ],
   "source": [
    "df.limit(5).toPandas()"
   ]
  },
  {
   "cell_type": "code",
   "execution_count": 6,
   "metadata": {},
   "outputs": [
    {
     "name": "stdout",
     "output_type": "stream",
     "text": [
      "root\n",
      " |-- artist: string (nullable = true)\n",
      " |-- auth: string (nullable = true)\n",
      " |-- firstName: string (nullable = true)\n",
      " |-- gender: string (nullable = true)\n",
      " |-- itemInSession: long (nullable = true)\n",
      " |-- lastName: string (nullable = true)\n",
      " |-- length: double (nullable = true)\n",
      " |-- level: string (nullable = true)\n",
      " |-- location: string (nullable = true)\n",
      " |-- method: string (nullable = true)\n",
      " |-- page: string (nullable = true)\n",
      " |-- registration: long (nullable = true)\n",
      " |-- sessionId: long (nullable = true)\n",
      " |-- song: string (nullable = true)\n",
      " |-- status: long (nullable = true)\n",
      " |-- ts: long (nullable = true)\n",
      " |-- userAgent: string (nullable = true)\n",
      " |-- userId: string (nullable = true)\n",
      "\n"
     ]
    }
   ],
   "source": [
    "df.printSchema()"
   ]
  },
  {
   "cell_type": "code",
   "execution_count": 7,
   "metadata": {},
   "outputs": [
    {
     "data": {
      "text/html": [
       "<div>\n",
       "<style scoped>\n",
       "    .dataframe tbody tr th:only-of-type {\n",
       "        vertical-align: middle;\n",
       "    }\n",
       "\n",
       "    .dataframe tbody tr th {\n",
       "        vertical-align: top;\n",
       "    }\n",
       "\n",
       "    .dataframe thead th {\n",
       "        text-align: right;\n",
       "    }\n",
       "</style>\n",
       "<table border=\"1\" class=\"dataframe\">\n",
       "  <thead>\n",
       "    <tr style=\"text-align: right;\">\n",
       "      <th></th>\n",
       "      <th>summary</th>\n",
       "      <th>artist</th>\n",
       "      <th>auth</th>\n",
       "      <th>firstName</th>\n",
       "      <th>gender</th>\n",
       "      <th>itemInSession</th>\n",
       "      <th>lastName</th>\n",
       "      <th>length</th>\n",
       "      <th>level</th>\n",
       "      <th>location</th>\n",
       "      <th>method</th>\n",
       "      <th>page</th>\n",
       "      <th>registration</th>\n",
       "      <th>sessionId</th>\n",
       "      <th>song</th>\n",
       "      <th>status</th>\n",
       "      <th>ts</th>\n",
       "      <th>userAgent</th>\n",
       "      <th>userId</th>\n",
       "    </tr>\n",
       "  </thead>\n",
       "  <tbody>\n",
       "    <tr>\n",
       "      <th>0</th>\n",
       "      <td>count</td>\n",
       "      <td>228108</td>\n",
       "      <td>286500</td>\n",
       "      <td>278154</td>\n",
       "      <td>278154</td>\n",
       "      <td>286500</td>\n",
       "      <td>278154</td>\n",
       "      <td>228108</td>\n",
       "      <td>286500</td>\n",
       "      <td>278154</td>\n",
       "      <td>286500</td>\n",
       "      <td>286500</td>\n",
       "      <td>278154</td>\n",
       "      <td>286500</td>\n",
       "      <td>228108</td>\n",
       "      <td>286500</td>\n",
       "      <td>286500</td>\n",
       "      <td>278154</td>\n",
       "      <td>286500</td>\n",
       "    </tr>\n",
       "    <tr>\n",
       "      <th>1</th>\n",
       "      <td>mean</td>\n",
       "      <td>551.0852017937219</td>\n",
       "      <td>None</td>\n",
       "      <td>None</td>\n",
       "      <td>None</td>\n",
       "      <td>114.41421291448516</td>\n",
       "      <td>None</td>\n",
       "      <td>249.1171819778458</td>\n",
       "      <td>None</td>\n",
       "      <td>None</td>\n",
       "      <td>None</td>\n",
       "      <td>None</td>\n",
       "      <td>1.5353588340844272E12</td>\n",
       "      <td>1041.526554973822</td>\n",
       "      <td>Infinity</td>\n",
       "      <td>210.05459685863875</td>\n",
       "      <td>1.5409568898104834E12</td>\n",
       "      <td>None</td>\n",
       "      <td>59682.02278593872</td>\n",
       "    </tr>\n",
       "    <tr>\n",
       "      <th>2</th>\n",
       "      <td>stddev</td>\n",
       "      <td>1217.7693079161374</td>\n",
       "      <td>None</td>\n",
       "      <td>None</td>\n",
       "      <td>None</td>\n",
       "      <td>129.76726201140994</td>\n",
       "      <td>None</td>\n",
       "      <td>99.23517921058361</td>\n",
       "      <td>None</td>\n",
       "      <td>None</td>\n",
       "      <td>None</td>\n",
       "      <td>None</td>\n",
       "      <td>3.291321616327586E9</td>\n",
       "      <td>726.7762634630741</td>\n",
       "      <td>NaN</td>\n",
       "      <td>31.50507848842214</td>\n",
       "      <td>1.5075439608226302E9</td>\n",
       "      <td>None</td>\n",
       "      <td>109091.9499991047</td>\n",
       "    </tr>\n",
       "    <tr>\n",
       "      <th>3</th>\n",
       "      <td>min</td>\n",
       "      <td>!!!</td>\n",
       "      <td>Cancelled</td>\n",
       "      <td>Adelaida</td>\n",
       "      <td>F</td>\n",
       "      <td>0</td>\n",
       "      <td>Adams</td>\n",
       "      <td>0.78322</td>\n",
       "      <td>free</td>\n",
       "      <td>Albany, OR</td>\n",
       "      <td>GET</td>\n",
       "      <td>About</td>\n",
       "      <td>1521380675000</td>\n",
       "      <td>1</td>\n",
       "      <td>ÃÂg ÃÂtti GrÃÂ¡a ÃÂsku</td>\n",
       "      <td>200</td>\n",
       "      <td>1538352117000</td>\n",
       "      <td>\"Mozilla/5.0 (Macintosh; Intel Mac OS X 10_10)...</td>\n",
       "      <td></td>\n",
       "    </tr>\n",
       "    <tr>\n",
       "      <th>4</th>\n",
       "      <td>max</td>\n",
       "      <td>ÃÂlafur Arnalds</td>\n",
       "      <td>Logged Out</td>\n",
       "      <td>Zyonna</td>\n",
       "      <td>M</td>\n",
       "      <td>1321</td>\n",
       "      <td>Wright</td>\n",
       "      <td>3024.66567</td>\n",
       "      <td>paid</td>\n",
       "      <td>Winston-Salem, NC</td>\n",
       "      <td>PUT</td>\n",
       "      <td>Upgrade</td>\n",
       "      <td>1543247354000</td>\n",
       "      <td>2474</td>\n",
       "      <td>ÃÂau hafa sloppiÃÂ° undan ÃÂ¾unga myrkursins</td>\n",
       "      <td>404</td>\n",
       "      <td>1543799476000</td>\n",
       "      <td>Mozilla/5.0 (compatible; MSIE 9.0; Windows NT ...</td>\n",
       "      <td>99</td>\n",
       "    </tr>\n",
       "  </tbody>\n",
       "</table>\n",
       "</div>"
      ],
      "text/plain": [
       "  summary              artist        auth firstName  gender  \\\n",
       "0   count              228108      286500    278154  278154   \n",
       "1    mean   551.0852017937219        None      None    None   \n",
       "2  stddev  1217.7693079161374        None      None    None   \n",
       "3     min                 !!!   Cancelled  Adelaida       F   \n",
       "4     max   ÃÂlafur Arnalds  Logged Out    Zyonna       M   \n",
       "\n",
       "        itemInSession lastName             length   level           location  \\\n",
       "0              286500   278154             228108  286500             278154   \n",
       "1  114.41421291448516     None  249.1171819778458    None               None   \n",
       "2  129.76726201140994     None  99.23517921058361    None               None   \n",
       "3                   0    Adams            0.78322    free         Albany, OR   \n",
       "4                1321   Wright         3024.66567    paid  Winston-Salem, NC   \n",
       "\n",
       "   method     page           registration          sessionId  \\\n",
       "0  286500   286500                 278154             286500   \n",
       "1    None     None  1.5353588340844272E12  1041.526554973822   \n",
       "2    None     None    3.291321616327586E9  726.7762634630741   \n",
       "3     GET    About          1521380675000                  1   \n",
       "4     PUT  Upgrade          1543247354000               2474   \n",
       "\n",
       "                                               song              status  \\\n",
       "0                                            228108              286500   \n",
       "1                                          Infinity  210.05459685863875   \n",
       "2                                               NaN   31.50507848842214   \n",
       "3                    \n",
       "ÃÂg ÃÂtti GrÃÂ¡a ÃÂsku                 200   \n",
       "4  ÃÂau hafa sloppiÃÂ° undan ÃÂ¾unga myrkursins                 404   \n",
       "\n",
       "                      ts                                          userAgent  \\\n",
       "0                 286500                                             278154   \n",
       "1  1.5409568898104834E12                                               None   \n",
       "2   1.5075439608226302E9                                               None   \n",
       "3          1538352117000  \"Mozilla/5.0 (Macintosh; Intel Mac OS X 10_10)...   \n",
       "4          1543799476000  Mozilla/5.0 (compatible; MSIE 9.0; Windows NT ...   \n",
       "\n",
       "              userId  \n",
       "0             286500  \n",
       "1  59682.02278593872  \n",
       "2  109091.9499991047  \n",
       "3                     \n",
       "4                 99  "
      ]
     },
     "execution_count": 7,
     "metadata": {},
     "output_type": "execute_result"
    }
   ],
   "source": [
    "df.describe().toPandas()"
   ]
  },
  {
   "cell_type": "markdown",
   "metadata": {},
   "source": [
    "### Clean data"
   ]
  },
  {
   "cell_type": "code",
   "execution_count": 8,
   "metadata": {},
   "outputs": [
    {
     "data": {
      "text/html": [
       "<div>\n",
       "<style scoped>\n",
       "    .dataframe tbody tr th:only-of-type {\n",
       "        vertical-align: middle;\n",
       "    }\n",
       "\n",
       "    .dataframe tbody tr th {\n",
       "        vertical-align: top;\n",
       "    }\n",
       "\n",
       "    .dataframe thead th {\n",
       "        text-align: right;\n",
       "    }\n",
       "</style>\n",
       "<table border=\"1\" class=\"dataframe\">\n",
       "  <thead>\n",
       "    <tr style=\"text-align: right;\">\n",
       "      <th></th>\n",
       "      <th>artist</th>\n",
       "      <th>auth</th>\n",
       "      <th>firstName</th>\n",
       "      <th>gender</th>\n",
       "      <th>itemInSession</th>\n",
       "      <th>lastName</th>\n",
       "      <th>length</th>\n",
       "      <th>level</th>\n",
       "      <th>location</th>\n",
       "      <th>method</th>\n",
       "      <th>page</th>\n",
       "      <th>registration</th>\n",
       "      <th>sessionId</th>\n",
       "      <th>song</th>\n",
       "      <th>status</th>\n",
       "      <th>ts</th>\n",
       "      <th>userAgent</th>\n",
       "      <th>userId</th>\n",
       "    </tr>\n",
       "  </thead>\n",
       "  <tbody>\n",
       "    <tr>\n",
       "      <th>0</th>\n",
       "      <td>58392</td>\n",
       "      <td>0</td>\n",
       "      <td>8346</td>\n",
       "      <td>8346</td>\n",
       "      <td>0</td>\n",
       "      <td>8346</td>\n",
       "      <td>58392</td>\n",
       "      <td>0</td>\n",
       "      <td>8346</td>\n",
       "      <td>0</td>\n",
       "      <td>0</td>\n",
       "      <td>8346</td>\n",
       "      <td>0</td>\n",
       "      <td>58392</td>\n",
       "      <td>0</td>\n",
       "      <td>0</td>\n",
       "      <td>8346</td>\n",
       "      <td>0</td>\n",
       "    </tr>\n",
       "  </tbody>\n",
       "</table>\n",
       "</div>"
      ],
      "text/plain": [
       "   artist  auth  firstName  gender  itemInSession  lastName  length  level  \\\n",
       "0   58392     0       8346    8346              0      8346   58392      0   \n",
       "\n",
       "   location  method  page  registration  sessionId   song  status  ts  \\\n",
       "0      8346       0     0          8346          0  58392       0   0   \n",
       "\n",
       "   userAgent  userId  \n",
       "0       8346       0  "
      ]
     },
     "execution_count": 8,
     "metadata": {},
     "output_type": "execute_result"
    }
   ],
   "source": [
    "#review NaN or Null data by column\n",
    "df.select([count(when(isnan(c) | col(c).isNull(), c)).alias(c) for c in df.columns]).toPandas()"
   ]
  },
  {
   "cell_type": "code",
   "execution_count": 9,
   "metadata": {},
   "outputs": [
    {
     "name": "stdout",
     "output_type": "stream",
     "text": [
      "Number of userId with empty string:8346\n",
      "Number of sessionId with empty string:0\n"
     ]
    }
   ],
   "source": [
    "# Review UserId and sessionId missing values \n",
    "print(f\"Number of userId with empty string:{df.filter(df['userId']=='').count()}\")\n",
    "print(f\"Number of sessionId with empty string:{df.filter(df['sessionId']=='').count()}\")"
   ]
  },
  {
   "cell_type": "code",
   "execution_count": 10,
   "metadata": {},
   "outputs": [],
   "source": [
    "#Clean Data:\n",
    "#anonymize data, remove first name and last name\n",
    "columns_to_drop = ['firstName','lastName']\n",
    "df = df.drop(*columns_to_drop)\n",
    "\n",
    "#remove userIds with empty values\n",
    "df = df.filter(df['userId']!='') "
   ]
  },
  {
   "cell_type": "code",
   "execution_count": 11,
   "metadata": {},
   "outputs": [
    {
     "data": {
      "text/html": [
       "<div>\n",
       "<style scoped>\n",
       "    .dataframe tbody tr th:only-of-type {\n",
       "        vertical-align: middle;\n",
       "    }\n",
       "\n",
       "    .dataframe tbody tr th {\n",
       "        vertical-align: top;\n",
       "    }\n",
       "\n",
       "    .dataframe thead th {\n",
       "        text-align: right;\n",
       "    }\n",
       "</style>\n",
       "<table border=\"1\" class=\"dataframe\">\n",
       "  <thead>\n",
       "    <tr style=\"text-align: right;\">\n",
       "      <th></th>\n",
       "      <th>artist</th>\n",
       "      <th>auth</th>\n",
       "      <th>gender</th>\n",
       "      <th>itemInSession</th>\n",
       "      <th>length</th>\n",
       "      <th>level</th>\n",
       "      <th>location</th>\n",
       "      <th>method</th>\n",
       "      <th>page</th>\n",
       "      <th>registration</th>\n",
       "      <th>sessionId</th>\n",
       "      <th>song</th>\n",
       "      <th>status</th>\n",
       "      <th>ts</th>\n",
       "      <th>userAgent</th>\n",
       "      <th>userId</th>\n",
       "    </tr>\n",
       "  </thead>\n",
       "  <tbody>\n",
       "    <tr>\n",
       "      <th>0</th>\n",
       "      <td>50046</td>\n",
       "      <td>0</td>\n",
       "      <td>0</td>\n",
       "      <td>0</td>\n",
       "      <td>50046</td>\n",
       "      <td>0</td>\n",
       "      <td>0</td>\n",
       "      <td>0</td>\n",
       "      <td>0</td>\n",
       "      <td>0</td>\n",
       "      <td>0</td>\n",
       "      <td>50046</td>\n",
       "      <td>0</td>\n",
       "      <td>0</td>\n",
       "      <td>0</td>\n",
       "      <td>0</td>\n",
       "    </tr>\n",
       "  </tbody>\n",
       "</table>\n",
       "</div>"
      ],
      "text/plain": [
       "   artist  auth  gender  itemInSession  length  level  location  method  page  \\\n",
       "0   50046     0       0              0   50046      0         0       0     0   \n",
       "\n",
       "   registration  sessionId   song  status  ts  userAgent  userId  \n",
       "0             0          0  50046       0   0          0       0  "
      ]
     },
     "execution_count": 11,
     "metadata": {},
     "output_type": "execute_result"
    }
   ],
   "source": [
    "#review NaN or Null data by column after Clean Data\n",
    "df.select([count(when(isnan(c) | col(c).isNull(), c)).alias(c) for c in df.columns]).toPandas()"
   ]
  },
  {
   "cell_type": "code",
   "execution_count": 12,
   "metadata": {},
   "outputs": [
    {
     "name": "stdout",
     "output_type": "stream",
     "text": [
      "Number of userId with empty string:0\n",
      "Number of sessionId with empty string:0\n"
     ]
    }
   ],
   "source": [
    "print(f\"Number of userId with empty string:{df.filter(df['userId']=='').count()}\")\n",
    "print(f\"Number of sessionId with empty string:{df.filter(df['sessionId']=='').count()}\")"
   ]
  },
  {
   "cell_type": "markdown",
   "metadata": {},
   "source": [
    "# Exploratory Data Analysis\n",
    "When you're working with the full dataset, perform EDA by loading a small subset of the data and doing basic manipulations within Spark. In this workspace, you are already provided a small subset of data you can explore."
   ]
  },
  {
   "cell_type": "code",
   "execution_count": 13,
   "metadata": {},
   "outputs": [],
   "source": [
    "df.createOrReplaceTempView(\"Sparkify_view\")"
   ]
  },
  {
   "cell_type": "code",
   "execution_count": 14,
   "metadata": {},
   "outputs": [
    {
     "data": {
      "text/html": [
       "<div>\n",
       "<style scoped>\n",
       "    .dataframe tbody tr th:only-of-type {\n",
       "        vertical-align: middle;\n",
       "    }\n",
       "\n",
       "    .dataframe tbody tr th {\n",
       "        vertical-align: top;\n",
       "    }\n",
       "\n",
       "    .dataframe thead th {\n",
       "        text-align: right;\n",
       "    }\n",
       "</style>\n",
       "<table border=\"1\" class=\"dataframe\">\n",
       "  <thead>\n",
       "    <tr style=\"text-align: right;\">\n",
       "      <th></th>\n",
       "      <th>gender</th>\n",
       "      <th>user_count</th>\n",
       "    </tr>\n",
       "  </thead>\n",
       "  <tbody>\n",
       "    <tr>\n",
       "      <th>0</th>\n",
       "      <td>M</td>\n",
       "      <td>121</td>\n",
       "    </tr>\n",
       "    <tr>\n",
       "      <th>1</th>\n",
       "      <td>F</td>\n",
       "      <td>104</td>\n",
       "    </tr>\n",
       "  </tbody>\n",
       "</table>\n",
       "</div>"
      ],
      "text/plain": [
       "  gender  user_count\n",
       "0      M         121\n",
       "1      F         104"
      ]
     },
     "execution_count": 14,
     "metadata": {},
     "output_type": "execute_result"
    }
   ],
   "source": [
    "gender_distribution = spark.sql(\"\"\"\n",
    "    SELECT gender, COUNT(DISTINCT userId) user_count\n",
    "        FROM Sparkify_view\n",
    "    GROUP BY gender\n",
    "    ORDER BY user_count DESC\n",
    "\"\"\").toPandas()\n",
    "gender_distribution"
   ]
  },
  {
   "cell_type": "code",
   "execution_count": 15,
   "metadata": {},
   "outputs": [
    {
     "data": {
      "text/plain": [
       "<matplotlib.axes._subplots.AxesSubplot at 0x7f1570b59eb8>"
      ]
     },
     "execution_count": 15,
     "metadata": {},
     "output_type": "execute_result"
    },
    {
     "data": {
      "image/png": "[encoded data removed]",
      "text/plain": [
       "<matplotlib.figure.Figure at 0x7f1570b6ffd0>"
      ]
     },
     "metadata": {},
     "output_type": "display_data"
    }
   ],
   "source": [
    "gender_distribution.plot.pie(rot=0,title = 'Gender distribution',\n",
    "                             x='gender', \n",
    "                             y = 'user_count' ,\n",
    "                             labels =['M','F'],\n",
    "                             figsize=(5,5),\n",
    "                             autopct=\"%.2f%%\")"
   ]
  },
  {
   "cell_type": "markdown",
   "metadata": {},
   "source": [
    "#### There are 225 users, 53.78 of all of them are males and 46.22 are females"
   ]
  },
  {
   "cell_type": "code",
   "execution_count": 16,
   "metadata": {},
   "outputs": [
    {
     "data": {
      "text/html": [
       "<div>\n",
       "<style scoped>\n",
       "    .dataframe tbody tr th:only-of-type {\n",
       "        vertical-align: middle;\n",
       "    }\n",
       "\n",
       "    .dataframe tbody tr th {\n",
       "        vertical-align: top;\n",
       "    }\n",
       "\n",
       "    .dataframe thead th {\n",
       "        text-align: right;\n",
       "    }\n",
       "</style>\n",
       "<table border=\"1\" class=\"dataframe\">\n",
       "  <thead>\n",
       "    <tr style=\"text-align: right;\">\n",
       "      <th></th>\n",
       "      <th>level</th>\n",
       "      <th>auth_and_gender</th>\n",
       "      <th>user_count</th>\n",
       "    </tr>\n",
       "  </thead>\n",
       "  <tbody>\n",
       "    <tr>\n",
       "      <th>0</th>\n",
       "      <td>free</td>\n",
       "      <td>Logged In - M</td>\n",
       "      <td>106</td>\n",
       "    </tr>\n",
       "    <tr>\n",
       "      <th>1</th>\n",
       "      <td>free</td>\n",
       "      <td>Logged In - F</td>\n",
       "      <td>89</td>\n",
       "    </tr>\n",
       "    <tr>\n",
       "      <th>2</th>\n",
       "      <td>paid</td>\n",
       "      <td>Logged In - M</td>\n",
       "      <td>86</td>\n",
       "    </tr>\n",
       "    <tr>\n",
       "      <th>3</th>\n",
       "      <td>paid</td>\n",
       "      <td>Logged In - F</td>\n",
       "      <td>79</td>\n",
       "    </tr>\n",
       "    <tr>\n",
       "      <th>4</th>\n",
       "      <td>paid</td>\n",
       "      <td>Cancelled - M</td>\n",
       "      <td>18</td>\n",
       "    </tr>\n",
       "    <tr>\n",
       "      <th>5</th>\n",
       "      <td>free</td>\n",
       "      <td>Cancelled - M</td>\n",
       "      <td>14</td>\n",
       "    </tr>\n",
       "    <tr>\n",
       "      <th>6</th>\n",
       "      <td>paid</td>\n",
       "      <td>Cancelled - F</td>\n",
       "      <td>13</td>\n",
       "    </tr>\n",
       "    <tr>\n",
       "      <th>7</th>\n",
       "      <td>free</td>\n",
       "      <td>Cancelled - F</td>\n",
       "      <td>7</td>\n",
       "    </tr>\n",
       "  </tbody>\n",
       "</table>\n",
       "</div>"
      ],
      "text/plain": [
       "  level auth_and_gender  user_count\n",
       "0  free   Logged In - M         106\n",
       "1  free   Logged In - F          89\n",
       "2  paid   Logged In - M          86\n",
       "3  paid   Logged In - F          79\n",
       "4  paid   Cancelled - M          18\n",
       "5  free   Cancelled - M          14\n",
       "6  paid   Cancelled - F          13\n",
       "7  free   Cancelled - F           7"
      ]
     },
     "execution_count": 16,
     "metadata": {},
     "output_type": "execute_result"
    }
   ],
   "source": [
    "user_df=  spark.sql(\"\"\"\n",
    "    SELECT level, CONCAT(auth,' - ',gender) as auth_and_gender, COUNT(DISTINCT userId) user_count\n",
    "        FROM Sparkify_view\n",
    "    GROUP BY level, CONCAT(auth,' - ',gender)\n",
    "    ORDER BY user_count DESC\n",
    "\"\"\").toPandas()\n",
    "user_df"
   ]
  },
  {
   "cell_type": "markdown",
   "metadata": {},
   "source": [
    "There are 225 different users"
   ]
  },
  {
   "cell_type": "code",
   "execution_count": 17,
   "metadata": {},
   "outputs": [
    {
     "data": {
      "image/png": "[encoded data removed]",
      "text/plain": [
       "<matplotlib.figure.Figure at 0x7f1570aa7f60>"
      ]
     },
     "metadata": {
      "needs_background": "light"
     },
     "output_type": "display_data"
    }
   ],
   "source": [
    "ax = (user_df.pivot(index='level', columns='auth_and_gender', values='user_count')\n",
    "      .plot.bar(rot=0,title = 'user distribution by level'))"
   ]
  },
  {
   "cell_type": "markdown",
   "metadata": {},
   "source": [
    "#### - Most of the users are in the `free` level, we have more Male users."
   ]
  },
  {
   "cell_type": "code",
   "execution_count": 18,
   "metadata": {},
   "outputs": [
    {
     "data": {
      "image/png": "[encoded data removed]",
      "text/plain": [
       "<matplotlib.figure.Figure at 0x7f1570ab7588>"
      ]
     },
     "metadata": {},
     "output_type": "display_data"
    }
   ],
   "source": [
    "ax = (user_df.pivot(index='auth_and_gender', columns='level', values='user_count')\n",
    "      .plot.pie(rot=0,title = 'user distribution by level',subplots=True, figsize=(10,5), autopct=\"%.2f%%\"))\n",
    "#ax = churn_distribution.groupby(['level','status'], as_index=False).sum().pivot(index='status', columns='level', values='user_count').plot.pie(rot=0,title = 'Churn distribution by level',subplots=True,autopct='%1.0f%%')"
   ]
  },
  {
   "cell_type": "markdown",
   "metadata": {},
   "source": [
    "#### In percentage, the `paid` level has more churn probability. the male users that paid the service has more probability of churn"
   ]
  },
  {
   "cell_type": "code",
   "execution_count": 19,
   "metadata": {},
   "outputs": [],
   "source": [
    "length_data = spark.sql(\n",
    "    \"\"\"\n",
    "    SELECT length\n",
    "        FROM Sparkify_view\n",
    "\"\"\")"
   ]
  },
  {
   "cell_type": "code",
   "execution_count": 20,
   "metadata": {},
   "outputs": [
    {
     "data": {
      "image/png": "[encoded data removed]",
      "text/plain": [
       "<matplotlib.figure.Figure at 0x7f159c1afa20>"
      ]
     },
     "metadata": {
      "needs_background": "light"
     },
     "output_type": "display_data"
    }
   ],
   "source": [
    "sns.distplot(length_data.toPandas().dropna());"
   ]
  },
  {
   "cell_type": "markdown",
   "metadata": {},
   "source": [
    "#### The mean length is 249.11 and has a Standard deviation 129.76; as you can see, most of the data is between 0 an 500"
   ]
  },
  {
   "cell_type": "code",
   "execution_count": 21,
   "metadata": {},
   "outputs": [],
   "source": [
    "#get users by Location\n",
    "location_count = spark.sql('''\n",
    "        SELECT location,COUNT(DISTINCT userId) AS user_count\n",
    "        FROM Sparkify_view\n",
    "        GROUP BY location\n",
    "        ORDER BY user_count DESC\n",
    "''').toPandas()\n",
    "location_count = location_count.join(location_count['location'].str.split(',',expand=True)\n",
    "                                     .rename(columns={0:'city',1:'state'})).drop('location',axis=1)"
   ]
  },
  {
   "cell_type": "code",
   "execution_count": 22,
   "metadata": {},
   "outputs": [
    {
     "data": {
      "image/png": "[encoded data removed]",
      "text/plain": [
       "<matplotlib.figure.Figure at 0x7f1570a666a0>"
      ]
     },
     "metadata": {
      "needs_background": "light"
     },
     "output_type": "display_data"
    }
   ],
   "source": [
    "location_count.groupby('state')['user_count'].sum().sort_values(ascending=False).plot(kind='bar',figsize=(20,5));"
   ]
  },
  {
   "cell_type": "markdown",
   "metadata": {},
   "source": [
    "#### California and Texas are the places where there are more users"
   ]
  },
  {
   "cell_type": "code",
   "execution_count": 23,
   "metadata": {},
   "outputs": [
    {
     "data": {
      "text/html": [
       "<div>\n",
       "<style scoped>\n",
       "    .dataframe tbody tr th:only-of-type {\n",
       "        vertical-align: middle;\n",
       "    }\n",
       "\n",
       "    .dataframe tbody tr th {\n",
       "        vertical-align: top;\n",
       "    }\n",
       "\n",
       "    .dataframe thead th {\n",
       "        text-align: right;\n",
       "    }\n",
       "</style>\n",
       "<table border=\"1\" class=\"dataframe\">\n",
       "  <thead>\n",
       "    <tr style=\"text-align: right;\">\n",
       "      <th></th>\n",
       "      <th>page</th>\n",
       "      <th>page_count</th>\n",
       "    </tr>\n",
       "  </thead>\n",
       "  <tbody>\n",
       "    <tr>\n",
       "      <th>0</th>\n",
       "      <td>NextSong</td>\n",
       "      <td>228108</td>\n",
       "    </tr>\n",
       "    <tr>\n",
       "      <th>1</th>\n",
       "      <td>Thumbs Up</td>\n",
       "      <td>12551</td>\n",
       "    </tr>\n",
       "    <tr>\n",
       "      <th>2</th>\n",
       "      <td>Home</td>\n",
       "      <td>10082</td>\n",
       "    </tr>\n",
       "    <tr>\n",
       "      <th>3</th>\n",
       "      <td>Add to Playlist</td>\n",
       "      <td>6526</td>\n",
       "    </tr>\n",
       "    <tr>\n",
       "      <th>4</th>\n",
       "      <td>Add Friend</td>\n",
       "      <td>4277</td>\n",
       "    </tr>\n",
       "    <tr>\n",
       "      <th>5</th>\n",
       "      <td>Roll Advert</td>\n",
       "      <td>3933</td>\n",
       "    </tr>\n",
       "    <tr>\n",
       "      <th>6</th>\n",
       "      <td>Logout</td>\n",
       "      <td>3226</td>\n",
       "    </tr>\n",
       "    <tr>\n",
       "      <th>7</th>\n",
       "      <td>Thumbs Down</td>\n",
       "      <td>2546</td>\n",
       "    </tr>\n",
       "    <tr>\n",
       "      <th>8</th>\n",
       "      <td>Downgrade</td>\n",
       "      <td>2055</td>\n",
       "    </tr>\n",
       "    <tr>\n",
       "      <th>9</th>\n",
       "      <td>Settings</td>\n",
       "      <td>1514</td>\n",
       "    </tr>\n",
       "    <tr>\n",
       "      <th>10</th>\n",
       "      <td>Help</td>\n",
       "      <td>1454</td>\n",
       "    </tr>\n",
       "    <tr>\n",
       "      <th>11</th>\n",
       "      <td>Upgrade</td>\n",
       "      <td>499</td>\n",
       "    </tr>\n",
       "    <tr>\n",
       "      <th>12</th>\n",
       "      <td>About</td>\n",
       "      <td>495</td>\n",
       "    </tr>\n",
       "    <tr>\n",
       "      <th>13</th>\n",
       "      <td>Save Settings</td>\n",
       "      <td>310</td>\n",
       "    </tr>\n",
       "    <tr>\n",
       "      <th>14</th>\n",
       "      <td>Error</td>\n",
       "      <td>252</td>\n",
       "    </tr>\n",
       "    <tr>\n",
       "      <th>15</th>\n",
       "      <td>Submit Upgrade</td>\n",
       "      <td>159</td>\n",
       "    </tr>\n",
       "    <tr>\n",
       "      <th>16</th>\n",
       "      <td>Submit Downgrade</td>\n",
       "      <td>63</td>\n",
       "    </tr>\n",
       "    <tr>\n",
       "      <th>17</th>\n",
       "      <td>Cancellation Confirmation</td>\n",
       "      <td>52</td>\n",
       "    </tr>\n",
       "    <tr>\n",
       "      <th>18</th>\n",
       "      <td>Cancel</td>\n",
       "      <td>52</td>\n",
       "    </tr>\n",
       "  </tbody>\n",
       "</table>\n",
       "</div>"
      ],
      "text/plain": [
       "                         page  page_count\n",
       "0                    NextSong      228108\n",
       "1                   Thumbs Up       12551\n",
       "2                        Home       10082\n",
       "3             Add to Playlist        6526\n",
       "4                  Add Friend        4277\n",
       "5                 Roll Advert        3933\n",
       "6                      Logout        3226\n",
       "7                 Thumbs Down        2546\n",
       "8                   Downgrade        2055\n",
       "9                    Settings        1514\n",
       "10                       Help        1454\n",
       "11                    Upgrade         499\n",
       "12                      About         495\n",
       "13              Save Settings         310\n",
       "14                      Error         252\n",
       "15             Submit Upgrade         159\n",
       "16           Submit Downgrade          63\n",
       "17  Cancellation Confirmation          52\n",
       "18                     Cancel          52"
      ]
     },
     "execution_count": 23,
     "metadata": {},
     "output_type": "execute_result"
    }
   ],
   "source": [
    "page_count = spark.sql(\"\"\"\n",
    "    SELECT page, COUNT(*) page_count\n",
    "        FROM Sparkify_view\n",
    "    GROUP BY auth,page\n",
    "    ORDER BY page_count DESC\n",
    "\"\"\").toPandas()\n",
    "page_count"
   ]
  },
  {
   "cell_type": "code",
   "execution_count": 24,
   "metadata": {},
   "outputs": [],
   "source": [
    "# session information \n",
    "session_count = spark.sql(\"\"\"\n",
    "    SELECT UserId, \n",
    "        SessionId, \n",
    "        COUNT(song) songs_count,\n",
    "        cast((max(ts) - min(ts))/3600000.0 as Integer) session_duration_hours\n",
    "        FROM Sparkify_view\n",
    "    GROUP BY UserId,SessionId\n",
    "\"\"\").toPandas()"
   ]
  },
  {
   "cell_type": "code",
   "execution_count": 25,
   "metadata": {},
   "outputs": [
    {
     "data": {
      "text/html": [
       "<div>\n",
       "<style scoped>\n",
       "    .dataframe tbody tr th:only-of-type {\n",
       "        vertical-align: middle;\n",
       "    }\n",
       "\n",
       "    .dataframe tbody tr th {\n",
       "        vertical-align: top;\n",
       "    }\n",
       "\n",
       "    .dataframe thead th {\n",
       "        text-align: right;\n",
       "    }\n",
       "</style>\n",
       "<table border=\"1\" class=\"dataframe\">\n",
       "  <thead>\n",
       "    <tr style=\"text-align: right;\">\n",
       "      <th></th>\n",
       "      <th>SessionId</th>\n",
       "      <th>songs_count</th>\n",
       "      <th>session_duration_hours</th>\n",
       "    </tr>\n",
       "  </thead>\n",
       "  <tbody>\n",
       "    <tr>\n",
       "      <th>count</th>\n",
       "      <td>3176.000000</td>\n",
       "      <td>3176.000000</td>\n",
       "      <td>3176.000000</td>\n",
       "    </tr>\n",
       "    <tr>\n",
       "      <th>mean</th>\n",
       "      <td>922.456549</td>\n",
       "      <td>71.822418</td>\n",
       "      <td>4.528967</td>\n",
       "    </tr>\n",
       "    <tr>\n",
       "      <th>std</th>\n",
       "      <td>731.087045</td>\n",
       "      <td>92.773258</td>\n",
       "      <td>6.478586</td>\n",
       "    </tr>\n",
       "    <tr>\n",
       "      <th>min</th>\n",
       "      <td>1.000000</td>\n",
       "      <td>0.000000</td>\n",
       "      <td>0.000000</td>\n",
       "    </tr>\n",
       "    <tr>\n",
       "      <th>25%</th>\n",
       "      <td>264.000000</td>\n",
       "      <td>14.000000</td>\n",
       "      <td>0.000000</td>\n",
       "    </tr>\n",
       "    <tr>\n",
       "      <th>50%</th>\n",
       "      <td>734.500000</td>\n",
       "      <td>39.000000</td>\n",
       "      <td>2.000000</td>\n",
       "    </tr>\n",
       "    <tr>\n",
       "      <th>75%</th>\n",
       "      <td>1552.250000</td>\n",
       "      <td>90.250000</td>\n",
       "      <td>6.000000</td>\n",
       "    </tr>\n",
       "    <tr>\n",
       "      <th>max</th>\n",
       "      <td>2474.000000</td>\n",
       "      <td>1093.000000</td>\n",
       "      <td>74.000000</td>\n",
       "    </tr>\n",
       "  </tbody>\n",
       "</table>\n",
       "</div>"
      ],
      "text/plain": [
       "         SessionId  songs_count  session_duration_hours\n",
       "count  3176.000000  3176.000000             3176.000000\n",
       "mean    922.456549    71.822418                4.528967\n",
       "std     731.087045    92.773258                6.478586\n",
       "min       1.000000     0.000000                0.000000\n",
       "25%     264.000000    14.000000                0.000000\n",
       "50%     734.500000    39.000000                2.000000\n",
       "75%    1552.250000    90.250000                6.000000\n",
       "max    2474.000000  1093.000000               74.000000"
      ]
     },
     "execution_count": 25,
     "metadata": {},
     "output_type": "execute_result"
    }
   ],
   "source": [
    "session_count.describe()"
   ]
  },
  {
   "cell_type": "markdown",
   "metadata": {},
   "source": [
    "#### By mean each person lissen by session 72 songs and it will be like 4 hours and 30 minutes"
   ]
  },
  {
   "cell_type": "code",
   "execution_count": 26,
   "metadata": {},
   "outputs": [
    {
     "data": {
      "image/png": "[encoded data removed]",
      "text/plain": [
       "<matplotlib.figure.Figure at 0x7f15675552b0>"
      ]
     },
     "metadata": {
      "needs_background": "light"
     },
     "output_type": "display_data"
    }
   ],
   "source": [
    "boxplot = session_count.boxplot(column=['session_duration_hours'])"
   ]
  },
  {
   "cell_type": "code",
   "execution_count": 27,
   "metadata": {},
   "outputs": [
    {
     "data": {
      "image/png": "[encoded data removed]",
      "text/plain": [
       "<matplotlib.figure.Figure at 0x7f157087e400>"
      ]
     },
     "metadata": {
      "needs_background": "light"
     },
     "output_type": "display_data"
    }
   ],
   "source": [
    "boxplot = session_count.boxplot(column=['songs_count'])"
   ]
  },
  {
   "cell_type": "code",
   "execution_count": 28,
   "metadata": {},
   "outputs": [
    {
     "data": {
      "text/html": [
       "<div>\n",
       "<style scoped>\n",
       "    .dataframe tbody tr th:only-of-type {\n",
       "        vertical-align: middle;\n",
       "    }\n",
       "\n",
       "    .dataframe tbody tr th {\n",
       "        vertical-align: top;\n",
       "    }\n",
       "\n",
       "    .dataframe thead th {\n",
       "        text-align: right;\n",
       "    }\n",
       "</style>\n",
       "<table border=\"1\" class=\"dataframe\">\n",
       "  <thead>\n",
       "    <tr style=\"text-align: right;\">\n",
       "      <th></th>\n",
       "      <th>summary</th>\n",
       "      <th>UserId</th>\n",
       "      <th>SessionId</th>\n",
       "      <th>200</th>\n",
       "      <th>307</th>\n",
       "      <th>404</th>\n",
       "    </tr>\n",
       "  </thead>\n",
       "  <tbody>\n",
       "    <tr>\n",
       "      <th>0</th>\n",
       "      <td>count</td>\n",
       "      <td>3176</td>\n",
       "      <td>3176</td>\n",
       "      <td>3176</td>\n",
       "      <td>3176</td>\n",
       "      <td>3176</td>\n",
       "    </tr>\n",
       "    <tr>\n",
       "      <th>1</th>\n",
       "      <td>mean</td>\n",
       "      <td>70837.98016372796</td>\n",
       "      <td>922.4565491183879</td>\n",
       "      <td>80.20088161209068</td>\n",
       "      <td>7.299748110831234</td>\n",
       "      <td>0.07934508816120907</td>\n",
       "    </tr>\n",
       "    <tr>\n",
       "      <th>2</th>\n",
       "      <td>stddev</td>\n",
       "      <td>113372.61681292772</td>\n",
       "      <td>731.0870448091692</td>\n",
       "      <td>101.1097350975957</td>\n",
       "      <td>9.04878535892884</td>\n",
       "      <td>0.30118142061014996</td>\n",
       "    </tr>\n",
       "    <tr>\n",
       "      <th>3</th>\n",
       "      <td>min</td>\n",
       "      <td>10</td>\n",
       "      <td>1</td>\n",
       "      <td>1</td>\n",
       "      <td>0</td>\n",
       "      <td>0</td>\n",
       "    </tr>\n",
       "    <tr>\n",
       "      <th>4</th>\n",
       "      <td>max</td>\n",
       "      <td>99</td>\n",
       "      <td>2474</td>\n",
       "      <td>1183</td>\n",
       "      <td>99</td>\n",
       "      <td>3</td>\n",
       "    </tr>\n",
       "  </tbody>\n",
       "</table>\n",
       "</div>"
      ],
      "text/plain": [
       "  summary              UserId          SessionId                200  \\\n",
       "0   count                3176               3176               3176   \n",
       "1    mean   70837.98016372796  922.4565491183879  80.20088161209068   \n",
       "2  stddev  113372.61681292772  731.0870448091692  101.1097350975957   \n",
       "3     min                  10                  1                  1   \n",
       "4     max                  99               2474               1183   \n",
       "\n",
       "                 307                  404  \n",
       "0               3176                 3176  \n",
       "1  7.299748110831234  0.07934508816120907  \n",
       "2   9.04878535892884  0.30118142061014996  \n",
       "3                  0                    0  \n",
       "4                 99                    3  "
      ]
     },
     "execution_count": 28,
     "metadata": {},
     "output_type": "execute_result"
    }
   ],
   "source": [
    "# describe status by Session\n",
    "status_count = df.groupBy(['UserId','SessionId']).pivot('status').count().na.fill(0)\n",
    "status_count.describe().toPandas()"
   ]
  },
  {
   "cell_type": "code",
   "execution_count": 29,
   "metadata": {},
   "outputs": [],
   "source": [
    "hour_data =  spark.sql(\"\"\"\n",
    "    SELECT  \n",
    "        dayOfWeek(from_unixtime( ts/1000.00)) dayofweek,\n",
    "        hour(from_unixtime( ts/1000.00)) hour,\n",
    "        count(*) count\n",
    "    FROM Sparkify_view\n",
    "    group by \n",
    "        dayOfWeek(from_unixtime( ts/1000.00)) ,\n",
    "        dayofmonth(from_unixtime( ts/1000.00)) ,\n",
    "        hour(from_unixtime( ts/1000.00)) \n",
    "        \n",
    "    \n",
    "\"\"\").toPandas()"
   ]
  },
  {
   "cell_type": "code",
   "execution_count": 30,
   "metadata": {},
   "outputs": [
    {
     "data": {
      "image/png": "[encoded data removed]",
      "text/plain": [
       "<matplotlib.figure.Figure at 0x7f1570936978>"
      ]
     },
     "metadata": {
      "needs_background": "light"
     },
     "output_type": "display_data"
    }
   ],
   "source": [
    "hour_data.groupby('hour')['count'].sum().plot(kind='bar',figsize=(20,5));"
   ]
  },
  {
   "cell_type": "code",
   "execution_count": 31,
   "metadata": {},
   "outputs": [
    {
     "data": {
      "image/png": "[encoded data removed]",
      "text/plain": [
       "<matplotlib.figure.Figure at 0x7f1570a69fd0>"
      ]
     },
     "metadata": {
      "needs_background": "light"
     },
     "output_type": "display_data"
    }
   ],
   "source": [
    "hour_data.groupby('dayofweek')['count'].sum().plot(kind='bar',figsize=(10,5));"
   ]
  },
  {
   "cell_type": "code",
   "execution_count": 32,
   "metadata": {},
   "outputs": [],
   "source": [
    "#User Agent\n",
    "udf_os_family = udf(lambda x: parse(x).os.family, StringType())\n",
    "udf_device_family = udf(lambda x: parse(x).device.family, StringType())\n",
    "udf_browser_family = udf(lambda x: parse(x).browser.family, StringType())\n",
    "\n",
    "df_os_family = (df\n",
    "                .withColumn('OS_family',udf_os_family(df.userAgent))\n",
    "                .withColumn('device_family',udf_device_family(df.userAgent))\n",
    "                .withColumn('browser_family',udf_browser_family(df.userAgent))\n",
    "               )\n",
    "#each user is connection only by a common userAgent\n",
    "df_pivot_device = df_os_family.groupBy(\"userId\").pivot(\"device_family\").agg(F.lit(1)).na.fill(0).toPandas().drop(columns=['userId'])\n",
    "df_pivot_browser = df_os_family.groupBy(\"userId\").pivot(\"browser_family\").agg(F.lit(1)).na.fill(0).toPandas().drop(columns=['userId'])\n",
    "df_pivot_OS = df_os_family.groupBy(\"userId\").pivot(\"OS_family\").agg(F.lit(1)).na.fill(0).toPandas().drop(columns=['userId'])"
   ]
  },
  {
   "cell_type": "code",
   "execution_count": 33,
   "metadata": {},
   "outputs": [
    {
     "data": {
      "text/plain": [
       "<matplotlib.axes._subplots.AxesSubplot at 0x7f1567537f60>"
      ]
     },
     "execution_count": 33,
     "metadata": {},
     "output_type": "execute_result"
    },
    {
     "data": {
      "image/png": "[encoded data removed]",
      "text/plain": [
       "<matplotlib.figure.Figure at 0x7f156825d6d8>"
      ]
     },
     "metadata": {
      "needs_background": "light"
     },
     "output_type": "display_data"
    }
   ],
   "source": [
    "df_pivot_device.sum().plot(kind='bar',figsize=(10,5), title='Device used by the users')"
   ]
  },
  {
   "cell_type": "code",
   "execution_count": 34,
   "metadata": {},
   "outputs": [
    {
     "data": {
      "text/plain": [
       "<matplotlib.axes._subplots.AxesSubplot at 0x7f1570861898>"
      ]
     },
     "execution_count": 34,
     "metadata": {},
     "output_type": "execute_result"
    },
    {
     "data": {
      "image/png": "[encoded data removed]",
      "text/plain": [
       "<matplotlib.figure.Figure at 0x7f1570874630>"
      ]
     },
     "metadata": {
      "needs_background": "light"
     },
     "output_type": "display_data"
    }
   ],
   "source": [
    "df_pivot_browser.sum().plot(kind='bar',figsize=(10,5), title='Browser used by the users')"
   ]
  },
  {
   "cell_type": "code",
   "execution_count": 35,
   "metadata": {},
   "outputs": [
    {
     "data": {
      "text/plain": [
       "<matplotlib.axes._subplots.AxesSubplot at 0x7f157086c630>"
      ]
     },
     "execution_count": 35,
     "metadata": {},
     "output_type": "execute_result"
    },
    {
     "data": {
      "image/png": "[encoded data removed]",
      "text/plain": [
       "<matplotlib.figure.Figure at 0x7f157081a898>"
      ]
     },
     "metadata": {
      "needs_background": "light"
     },
     "output_type": "display_data"
    }
   ],
   "source": [
    "df_pivot_OS.sum().plot(kind='bar',figsize=(10,5), title='OS used by the users')"
   ]
  },
  {
   "cell_type": "markdown",
   "metadata": {},
   "source": [
    "### Define Churn\n",
    "\n",
    "Once you've done some preliminary analysis, create a column `Churn` to use as the label for your model. I suggest using the `Cancellation Confirmation` events to define your churn, which happen for both paid and free users. As a bonus task, you can also look into the `Downgrade` events.\n",
    "\n"
   ]
  },
  {
   "cell_type": "code",
   "execution_count": 36,
   "metadata": {},
   "outputs": [
    {
     "data": {
      "text/html": [
       "<div>\n",
       "<style scoped>\n",
       "    .dataframe tbody tr th:only-of-type {\n",
       "        vertical-align: middle;\n",
       "    }\n",
       "\n",
       "    .dataframe tbody tr th {\n",
       "        vertical-align: top;\n",
       "    }\n",
       "\n",
       "    .dataframe thead th {\n",
       "        text-align: right;\n",
       "    }\n",
       "</style>\n",
       "<table border=\"1\" class=\"dataframe\">\n",
       "  <thead>\n",
       "    <tr style=\"text-align: right;\">\n",
       "      <th></th>\n",
       "      <th>page</th>\n",
       "    </tr>\n",
       "  </thead>\n",
       "  <tbody>\n",
       "    <tr>\n",
       "      <th>0</th>\n",
       "      <td>Cancel</td>\n",
       "    </tr>\n",
       "    <tr>\n",
       "      <th>1</th>\n",
       "      <td>Submit Downgrade</td>\n",
       "    </tr>\n",
       "    <tr>\n",
       "      <th>2</th>\n",
       "      <td>Thumbs Down</td>\n",
       "    </tr>\n",
       "    <tr>\n",
       "      <th>3</th>\n",
       "      <td>Home</td>\n",
       "    </tr>\n",
       "    <tr>\n",
       "      <th>4</th>\n",
       "      <td>Downgrade</td>\n",
       "    </tr>\n",
       "    <tr>\n",
       "      <th>5</th>\n",
       "      <td>Roll Advert</td>\n",
       "    </tr>\n",
       "    <tr>\n",
       "      <th>6</th>\n",
       "      <td>Logout</td>\n",
       "    </tr>\n",
       "    <tr>\n",
       "      <th>7</th>\n",
       "      <td>Save Settings</td>\n",
       "    </tr>\n",
       "    <tr>\n",
       "      <th>8</th>\n",
       "      <td>Cancellation Confirmation</td>\n",
       "    </tr>\n",
       "    <tr>\n",
       "      <th>9</th>\n",
       "      <td>About</td>\n",
       "    </tr>\n",
       "    <tr>\n",
       "      <th>10</th>\n",
       "      <td>Settings</td>\n",
       "    </tr>\n",
       "    <tr>\n",
       "      <th>11</th>\n",
       "      <td>Add to Playlist</td>\n",
       "    </tr>\n",
       "    <tr>\n",
       "      <th>12</th>\n",
       "      <td>Add Friend</td>\n",
       "    </tr>\n",
       "    <tr>\n",
       "      <th>13</th>\n",
       "      <td>NextSong</td>\n",
       "    </tr>\n",
       "    <tr>\n",
       "      <th>14</th>\n",
       "      <td>Thumbs Up</td>\n",
       "    </tr>\n",
       "    <tr>\n",
       "      <th>15</th>\n",
       "      <td>Help</td>\n",
       "    </tr>\n",
       "    <tr>\n",
       "      <th>16</th>\n",
       "      <td>Upgrade</td>\n",
       "    </tr>\n",
       "    <tr>\n",
       "      <th>17</th>\n",
       "      <td>Error</td>\n",
       "    </tr>\n",
       "    <tr>\n",
       "      <th>18</th>\n",
       "      <td>Submit Upgrade</td>\n",
       "    </tr>\n",
       "  </tbody>\n",
       "</table>\n",
       "</div>"
      ],
      "text/plain": [
       "                         page\n",
       "0                      Cancel\n",
       "1            Submit Downgrade\n",
       "2                 Thumbs Down\n",
       "3                        Home\n",
       "4                   Downgrade\n",
       "5                 Roll Advert\n",
       "6                      Logout\n",
       "7               Save Settings\n",
       "8   Cancellation Confirmation\n",
       "9                       About\n",
       "10                   Settings\n",
       "11            Add to Playlist\n",
       "12                 Add Friend\n",
       "13                   NextSong\n",
       "14                  Thumbs Up\n",
       "15                       Help\n",
       "16                    Upgrade\n",
       "17                      Error\n",
       "18             Submit Upgrade"
      ]
     },
     "execution_count": 36,
     "metadata": {},
     "output_type": "execute_result"
    }
   ],
   "source": [
    "df.select(\"page\").distinct().toPandas()"
   ]
  },
  {
   "cell_type": "code",
   "execution_count": 37,
   "metadata": {},
   "outputs": [],
   "source": [
    "df_churn_definition = spark.sql(\"\"\"\n",
    "    SELECT userId, \n",
    "           1 Churn\n",
    "    FROM Sparkify_view\n",
    "    WHERE  page = 'Cancellation Confirmation'\n",
    "    GROUP BY userId\n",
    "\"\"\")"
   ]
  },
  {
   "cell_type": "code",
   "execution_count": 38,
   "metadata": {},
   "outputs": [],
   "source": [
    "#define Churn for each event on the users that have been access to the page `Cancellation Confirmation`\n",
    "df_churn = df.join(df_churn_definition, on=['userId'], how='left').fillna(0, subset=['Churn'])"
   ]
  },
  {
   "cell_type": "markdown",
   "metadata": {},
   "source": [
    "### Explore Data\n",
    "Once you've defined churn, perform some exploratory data analysis to observe the behavior for users who stayed vs users who churned. You can start by exploring aggregates on these two groups of users, observing how much of a specific action they experienced per a certain time unit or number of songs played."
   ]
  },
  {
   "cell_type": "code",
   "execution_count": 39,
   "metadata": {},
   "outputs": [],
   "source": [
    "df_churn.createOrReplaceTempView(\"Sparkify_churn_view\")"
   ]
  },
  {
   "cell_type": "code",
   "execution_count": 40,
   "metadata": {},
   "outputs": [],
   "source": [
    "def validate_two_sided_hypotesis (fieldname, successes, samples, significance = 0.025):\n",
    "    \"\"\"\n",
    "    validate if there is statistical difference based on significance (p value) for two populations. \n",
    "    The null hypotesis is that the proportions from the two populations are the same\n",
    "    \n",
    "    :param fieldname: string - field name that is evaluated\n",
    "    :param successes: list of integer - number of elements that are classified as success\n",
    "    :param samples: list of integer - number of total elements to evaluate\n",
    "    :param significance: threshold to evaluate the p_value\n",
    "    :return: no return\n",
    "    \"\"\"\n",
    "    stat, p_value = proportions_ztest(successes,samples,alternative='two-sided')\n",
    "    print('z_stat: %0.3f, p_value: %0.3f' % (stat, p_value))\n",
    "    if p_value > significance:\n",
    "       print (f\"Fail to reject the null hypothesis - proportions from the two populations based on '{fieldname}' are the same \")\n",
    "    else:\n",
    "       print (f\"Reject the null hypothesis - proportions from the two populations based on '{fieldname}' are different\")"
   ]
  },
  {
   "cell_type": "code",
   "execution_count": 41,
   "metadata": {},
   "outputs": [],
   "source": [
    "def scale_data_by_Churn(df, column_name, column_to_count = 'user_count'):\n",
    "    \"\"\"\n",
    "    group data by Churn and scale each column\n",
    "    \n",
    "    :param df: pandas dataframe - dataframe to work on \n",
    "    :param column_name: string - column name of the dataframe to generate a group with `Churn`\n",
    "    :param column_to_count: string - column name to perform the scale function\n",
    "    :return: pandas dataframe - dataframe with the data scaled\n",
    "    \"\"\"\n",
    "    \n",
    "    df_data_group = (df\n",
    "                     .groupby(['Churn',column_name], as_index=False)[column_to_count]\n",
    "                     .sum()\n",
    "                     .pivot(index=column_name, columns='Churn', values=column_to_count).fillna(0))\n",
    "    normalized_df= (df_data_group-df_data_group.min())/(df_data_group.max()-df_data_group.min())\n",
    "    return normalized_df"
   ]
  },
  {
   "cell_type": "markdown",
   "metadata": {},
   "source": [
    "#### Gender"
   ]
  },
  {
   "cell_type": "code",
   "execution_count": 42,
   "metadata": {},
   "outputs": [
    {
     "data": {
      "text/html": [
       "<div>\n",
       "<style scoped>\n",
       "    .dataframe tbody tr th:only-of-type {\n",
       "        vertical-align: middle;\n",
       "    }\n",
       "\n",
       "    .dataframe tbody tr th {\n",
       "        vertical-align: top;\n",
       "    }\n",
       "\n",
       "    .dataframe thead th {\n",
       "        text-align: right;\n",
       "    }\n",
       "</style>\n",
       "<table border=\"1\" class=\"dataframe\">\n",
       "  <thead>\n",
       "    <tr style=\"text-align: right;\">\n",
       "      <th></th>\n",
       "      <th>Churn</th>\n",
       "      <th>gender</th>\n",
       "      <th>user_count</th>\n",
       "    </tr>\n",
       "  </thead>\n",
       "  <tbody>\n",
       "    <tr>\n",
       "      <th>0</th>\n",
       "      <td>0</td>\n",
       "      <td>M</td>\n",
       "      <td>89</td>\n",
       "    </tr>\n",
       "    <tr>\n",
       "      <th>1</th>\n",
       "      <td>0</td>\n",
       "      <td>F</td>\n",
       "      <td>84</td>\n",
       "    </tr>\n",
       "    <tr>\n",
       "      <th>2</th>\n",
       "      <td>1</td>\n",
       "      <td>M</td>\n",
       "      <td>32</td>\n",
       "    </tr>\n",
       "    <tr>\n",
       "      <th>3</th>\n",
       "      <td>1</td>\n",
       "      <td>F</td>\n",
       "      <td>20</td>\n",
       "    </tr>\n",
       "  </tbody>\n",
       "</table>\n",
       "</div>"
      ],
      "text/plain": [
       "   Churn gender  user_count\n",
       "0      0      M          89\n",
       "1      0      F          84\n",
       "2      1      M          32\n",
       "3      1      F          20"
      ]
     },
     "execution_count": 42,
     "metadata": {},
     "output_type": "execute_result"
    }
   ],
   "source": [
    "user_df=  spark.sql(\"\"\"\n",
    "    SELECT Churn, gender as gender, COUNT(DISTINCT userId) user_count\n",
    "        FROM Sparkify_churn_view\n",
    "    GROUP BY Churn, gender\n",
    "    ORDER BY user_count DESC\n",
    "\"\"\").toPandas()\n",
    "user_df"
   ]
  },
  {
   "cell_type": "code",
   "execution_count": 43,
   "metadata": {},
   "outputs": [
    {
     "data": {
      "image/png": "[encoded data removed]",
      "text/plain": [
       "<matplotlib.figure.Figure at 0x7f157076a400>"
      ]
     },
     "metadata": {},
     "output_type": "display_data"
    }
   ],
   "source": [
    "ax = (user_df.pivot(index='gender', columns='Churn', values='user_count')\n",
    "      .plot.pie(rot=0,title = 'gender percentage by churn',subplots=True, figsize=(10,5), autopct=\"%.2f%%\"))"
   ]
  },
  {
   "cell_type": "code",
   "execution_count": 44,
   "metadata": {},
   "outputs": [
    {
     "name": "stdout",
     "output_type": "stream",
     "text": [
      "z_stat: 0.953, p_value: 0.340\n",
      "Fail to reject the null hypothesis - proportions from the two populations based on 'gender' are the same \n"
     ]
    }
   ],
   "source": [
    "validate_two_sided_hypotesis ('gender',[32,20],[131,104])"
   ]
  },
  {
   "cell_type": "markdown",
   "metadata": {},
   "source": [
    "#### length"
   ]
  },
  {
   "cell_type": "code",
   "execution_count": 45,
   "metadata": {},
   "outputs": [
    {
     "data": {
      "text/html": [
       "<div>\n",
       "<style scoped>\n",
       "    .dataframe tbody tr th:only-of-type {\n",
       "        vertical-align: middle;\n",
       "    }\n",
       "\n",
       "    .dataframe tbody tr th {\n",
       "        vertical-align: top;\n",
       "    }\n",
       "\n",
       "    .dataframe thead th {\n",
       "        text-align: right;\n",
       "    }\n",
       "</style>\n",
       "<table border=\"1\" class=\"dataframe\">\n",
       "  <thead>\n",
       "    <tr style=\"text-align: right;\">\n",
       "      <th></th>\n",
       "      <th>Churn</th>\n",
       "      <th>mean_length</th>\n",
       "      <th>stdev_length</th>\n",
       "      <th>max_length</th>\n",
       "      <th>min_length</th>\n",
       "    </tr>\n",
       "  </thead>\n",
       "  <tbody>\n",
       "    <tr>\n",
       "      <th>0</th>\n",
       "      <td>1</td>\n",
       "      <td>248.632796</td>\n",
       "      <td>102.384977</td>\n",
       "      <td>3024.66567</td>\n",
       "      <td>4.04853</td>\n",
       "    </tr>\n",
       "    <tr>\n",
       "      <th>1</th>\n",
       "      <td>0</td>\n",
       "      <td>249.209135</td>\n",
       "      <td>98.625883</td>\n",
       "      <td>3024.66567</td>\n",
       "      <td>0.78322</td>\n",
       "    </tr>\n",
       "  </tbody>\n",
       "</table>\n",
       "</div>"
      ],
      "text/plain": [
       "   Churn  mean_length  stdev_length  max_length  min_length\n",
       "0      1   248.632796    102.384977  3024.66567     4.04853\n",
       "1      0   249.209135     98.625883  3024.66567     0.78322"
      ]
     },
     "execution_count": 45,
     "metadata": {},
     "output_type": "execute_result"
    }
   ],
   "source": [
    "df_churn.select([\"Churn\", \"length\"]).groupby([\"Churn\"]).agg(avg('length').alias('mean_length'),\n",
    "                                                            stddev('length').alias('stdev_length'),\n",
    "                                                            max('length').alias('max_length'),\n",
    "                                                            min('length').alias('min_length')).toPandas()"
   ]
  },
  {
   "cell_type": "code",
   "execution_count": 46,
   "metadata": {},
   "outputs": [
    {
     "data": {
      "text/html": [
       "<div>\n",
       "<style scoped>\n",
       "    .dataframe tbody tr th:only-of-type {\n",
       "        vertical-align: middle;\n",
       "    }\n",
       "\n",
       "    .dataframe tbody tr th {\n",
       "        vertical-align: top;\n",
       "    }\n",
       "\n",
       "    .dataframe thead th {\n",
       "        text-align: right;\n",
       "    }\n",
       "</style>\n",
       "<table border=\"1\" class=\"dataframe\">\n",
       "  <thead>\n",
       "    <tr style=\"text-align: right;\">\n",
       "      <th></th>\n",
       "      <th>Churn</th>\n",
       "      <th>level</th>\n",
       "      <th>count</th>\n",
       "    </tr>\n",
       "  </thead>\n",
       "  <tbody>\n",
       "    <tr>\n",
       "      <th>0</th>\n",
       "      <td>0</td>\n",
       "      <td>free</td>\n",
       "      <td>133</td>\n",
       "    </tr>\n",
       "    <tr>\n",
       "      <th>1</th>\n",
       "      <td>0</td>\n",
       "      <td>paid</td>\n",
       "      <td>40</td>\n",
       "    </tr>\n",
       "    <tr>\n",
       "      <th>2</th>\n",
       "      <td>1</td>\n",
       "      <td>paid</td>\n",
       "      <td>8</td>\n",
       "    </tr>\n",
       "    <tr>\n",
       "      <th>3</th>\n",
       "      <td>1</td>\n",
       "      <td>free</td>\n",
       "      <td>44</td>\n",
       "    </tr>\n",
       "  </tbody>\n",
       "</table>\n",
       "</div>"
      ],
      "text/plain": [
       "   Churn level  count\n",
       "0      0  free    133\n",
       "1      0  paid     40\n",
       "2      1  paid      8\n",
       "3      1  free     44"
      ]
     },
     "execution_count": 46,
     "metadata": {},
     "output_type": "execute_result"
    }
   ],
   "source": [
    "df_churn.dropDuplicates([\"userId\"]).groupby([\"Churn\", \"level\"]).count().sort(\"Churn\").toPandas()"
   ]
  },
  {
   "cell_type": "code",
   "execution_count": 47,
   "metadata": {},
   "outputs": [
    {
     "name": "stdout",
     "output_type": "stream",
     "text": [
      "z_stat: -1.194, p_value: 0.232\n",
      "Fail to reject the null hypothesis - proportions from the two populations based on 'level' are the same \n"
     ]
    }
   ],
   "source": [
    "validate_two_sided_hypotesis ('level',[8,44],[48,177])"
   ]
  },
  {
   "cell_type": "code",
   "execution_count": 48,
   "metadata": {},
   "outputs": [],
   "source": [
    "#get users by Location\n",
    "location_count = spark.sql('''\n",
    "        SELECT Churn,location,COUNT(DISTINCT userId) AS user_count\n",
    "        FROM Sparkify_churn_view\n",
    "        GROUP BY Churn,location\n",
    "        ORDER BY user_count DESC\n",
    "''').toPandas()\n",
    "location_chunc_count = location_count.join(location_count['location'].str.split(',',expand=True)\n",
    "                                     .rename(columns={0:'city',1:'state'})).drop('location',axis=1)\n",
    "\n",
    "#location_chunc_count.groupby('Churn','state')['user_count'].sum().sort_values(ascending=False).plot(kind='bar',figsize=(20,5));\n"
   ]
  },
  {
   "cell_type": "code",
   "execution_count": 49,
   "metadata": {},
   "outputs": [
    {
     "data": {
      "image/png": "[encoded data removed]",
      "text/plain": [
       "<matplotlib.figure.Figure at 0x7f15706937f0>"
      ]
     },
     "metadata": {
      "needs_background": "light"
     },
     "output_type": "display_data"
    }
   ],
   "source": [
    "ax = (location_chunc_count\n",
    "      .groupby(['Churn','state'], as_index=False)['user_count']\n",
    "      .sum()\n",
    "      .pivot(index='state', columns='Churn', values='user_count')\n",
    "      .plot.barh(rot=0,title = 'User count by state', figsize=(5,10))\n",
    "      \n",
    "     )"
   ]
  },
  {
   "cell_type": "markdown",
   "metadata": {},
   "source": [
    "- It is difficult to validate the state, it will be necesary to scale the data group by Churn"
   ]
  },
  {
   "cell_type": "code",
   "execution_count": 50,
   "metadata": {},
   "outputs": [
    {
     "data": {
      "text/plain": [
       "<matplotlib.axes._subplots.AxesSubplot at 0x7f15701abba8>"
      ]
     },
     "execution_count": 50,
     "metadata": {},
     "output_type": "execute_result"
    },
    {
     "data": {
      "image/png": "[encoded data removed]",
      "text/plain": [
       "<matplotlib.figure.Figure at 0x7f158c9c77b8>"
      ]
     },
     "metadata": {
      "needs_background": "light"
     },
     "output_type": "display_data"
    }
   ],
   "source": [
    "scale_data_by_Churn(location_chunc_count,'state').plot.barh(rot=0,title = 'User count(scaled) by state', figsize=(5,10))"
   ]
  },
  {
   "cell_type": "markdown",
   "metadata": {},
   "source": [
    "#### page"
   ]
  },
  {
   "cell_type": "code",
   "execution_count": 51,
   "metadata": {},
   "outputs": [
    {
     "data": {
      "text/html": [
       "<div>\n",
       "<style scoped>\n",
       "    .dataframe tbody tr th:only-of-type {\n",
       "        vertical-align: middle;\n",
       "    }\n",
       "\n",
       "    .dataframe tbody tr th {\n",
       "        vertical-align: top;\n",
       "    }\n",
       "\n",
       "    .dataframe thead th {\n",
       "        text-align: right;\n",
       "    }\n",
       "</style>\n",
       "<table border=\"1\" class=\"dataframe\">\n",
       "  <thead>\n",
       "    <tr style=\"text-align: right;\">\n",
       "      <th>Churn</th>\n",
       "      <th>0</th>\n",
       "      <th>1</th>\n",
       "    </tr>\n",
       "    <tr>\n",
       "      <th>page</th>\n",
       "      <th></th>\n",
       "      <th></th>\n",
       "    </tr>\n",
       "  </thead>\n",
       "  <tbody>\n",
       "    <tr>\n",
       "      <th>About</th>\n",
       "      <td>0.002290</td>\n",
       "      <td>0.001292</td>\n",
       "    </tr>\n",
       "    <tr>\n",
       "      <th>Add Friend</th>\n",
       "      <td>0.018992</td>\n",
       "      <td>0.017232</td>\n",
       "    </tr>\n",
       "    <tr>\n",
       "      <th>Add to Playlist</th>\n",
       "      <td>0.028626</td>\n",
       "      <td>0.028281</td>\n",
       "    </tr>\n",
       "    <tr>\n",
       "      <th>Cancel</th>\n",
       "      <td>0.000000</td>\n",
       "      <td>0.001182</td>\n",
       "    </tr>\n",
       "    <tr>\n",
       "      <th>Cancellation Confirmation</th>\n",
       "      <td>0.000000</td>\n",
       "      <td>0.001182</td>\n",
       "    </tr>\n",
       "    <tr>\n",
       "      <th>Downgrade</th>\n",
       "      <td>0.008961</td>\n",
       "      <td>0.009015</td>\n",
       "    </tr>\n",
       "    <tr>\n",
       "      <th>Error</th>\n",
       "      <td>0.001148</td>\n",
       "      <td>0.000632</td>\n",
       "    </tr>\n",
       "    <tr>\n",
       "      <th>Help</th>\n",
       "      <td>0.006338</td>\n",
       "      <td>0.006321</td>\n",
       "    </tr>\n",
       "    <tr>\n",
       "      <th>Home</th>\n",
       "      <td>0.043867</td>\n",
       "      <td>0.045706</td>\n",
       "    </tr>\n",
       "    <tr>\n",
       "      <th>Logout</th>\n",
       "      <td>0.013943</td>\n",
       "      <td>0.014951</td>\n",
       "    </tr>\n",
       "    <tr>\n",
       "      <th>NextSong</th>\n",
       "      <td>1.000000</td>\n",
       "      <td>1.000000</td>\n",
       "    </tr>\n",
       "    <tr>\n",
       "      <th>Roll Advert</th>\n",
       "      <td>0.015471</td>\n",
       "      <td>0.026330</td>\n",
       "    </tr>\n",
       "    <tr>\n",
       "      <th>Save Settings</th>\n",
       "      <td>0.001314</td>\n",
       "      <td>0.001347</td>\n",
       "    </tr>\n",
       "    <tr>\n",
       "      <th>Settings</th>\n",
       "      <td>0.006489</td>\n",
       "      <td>0.007173</td>\n",
       "    </tr>\n",
       "    <tr>\n",
       "      <th>Submit Downgrade</th>\n",
       "      <td>0.000282</td>\n",
       "      <td>0.000000</td>\n",
       "    </tr>\n",
       "    <tr>\n",
       "      <th>Submit Upgrade</th>\n",
       "      <td>0.000662</td>\n",
       "      <td>0.000632</td>\n",
       "    </tr>\n",
       "    <tr>\n",
       "      <th>Thumbs Down</th>\n",
       "      <td>0.010693</td>\n",
       "      <td>0.013385</td>\n",
       "    </tr>\n",
       "    <tr>\n",
       "      <th>Thumbs Up</th>\n",
       "      <td>0.055771</td>\n",
       "      <td>0.050845</td>\n",
       "    </tr>\n",
       "    <tr>\n",
       "      <th>Upgrade</th>\n",
       "      <td>0.002019</td>\n",
       "      <td>0.002831</td>\n",
       "    </tr>\n",
       "  </tbody>\n",
       "</table>\n",
       "</div>"
      ],
      "text/plain": [
       "Churn                             0         1\n",
       "page                                         \n",
       "About                      0.002290  0.001292\n",
       "Add Friend                 0.018992  0.017232\n",
       "Add to Playlist            0.028626  0.028281\n",
       "Cancel                     0.000000  0.001182\n",
       "Cancellation Confirmation  0.000000  0.001182\n",
       "Downgrade                  0.008961  0.009015\n",
       "Error                      0.001148  0.000632\n",
       "Help                       0.006338  0.006321\n",
       "Home                       0.043867  0.045706\n",
       "Logout                     0.013943  0.014951\n",
       "NextSong                   1.000000  1.000000\n",
       "Roll Advert                0.015471  0.026330\n",
       "Save Settings              0.001314  0.001347\n",
       "Settings                   0.006489  0.007173\n",
       "Submit Downgrade           0.000282  0.000000\n",
       "Submit Upgrade             0.000662  0.000632\n",
       "Thumbs Down                0.010693  0.013385\n",
       "Thumbs Up                  0.055771  0.050845\n",
       "Upgrade                    0.002019  0.002831"
      ]
     },
     "execution_count": 51,
     "metadata": {},
     "output_type": "execute_result"
    }
   ],
   "source": [
    "#get users by Location\n",
    "page_count = spark.sql('''\n",
    "        SELECT Churn,page,COUNT(*) AS page_count\n",
    "        FROM Sparkify_churn_view\n",
    "        GROUP BY Churn,page\n",
    "        order by Churn, page_count desc\n",
    "''').toPandas()\n",
    "page_count_scaled = scale_data_by_Churn(page_count,'page','page_count')\n",
    "page_count_scaled"
   ]
  },
  {
   "cell_type": "code",
   "execution_count": 52,
   "metadata": {},
   "outputs": [
    {
     "data": {
      "text/plain": [
       "<matplotlib.axes._subplots.AxesSubplot at 0x7f1570924e48>"
      ]
     },
     "execution_count": 52,
     "metadata": {},
     "output_type": "execute_result"
    },
    {
     "data": {
      "image/png": "[encoded data removed]",
      "text/plain": [
       "<matplotlib.figure.Figure at 0x7f15700f7390>"
      ]
     },
     "metadata": {
      "needs_background": "light"
     },
     "output_type": "display_data"
    }
   ],
   "source": [
    "page_count_scaled.plot.barh(rot=0,title = 'event count(scaled) by pages', figsize=(5,10))"
   ]
  },
  {
   "cell_type": "code",
   "execution_count": 53,
   "metadata": {},
   "outputs": [],
   "source": [
    "page_count_pivot = df_churn.groupBy(['Churn','UserId','SessionId']).pivot('page').count().na.fill(0).toPandas()"
   ]
  },
  {
   "cell_type": "code",
   "execution_count": 54,
   "metadata": {},
   "outputs": [
    {
     "data": {
      "image/png": "[encoded data removed]",
      "text/plain": [
       "<matplotlib.figure.Figure at 0x7f1570171668>"
      ]
     },
     "metadata": {
      "needs_background": "light"
     },
     "output_type": "display_data"
    }
   ],
   "source": [
    "page_review_list = ['About','Add Friend','Add to Playlist','Downgrade','Error']\n",
    "boxplot = page_count_pivot.groupby('Churn',as_index=False).boxplot(column=page_review_list, figsize=(20,5))"
   ]
  },
  {
   "cell_type": "code",
   "execution_count": 55,
   "metadata": {},
   "outputs": [
    {
     "data": {
      "image/png": "[encoded data removed]",
      "text/plain": [
       "<matplotlib.figure.Figure at 0x7f1569a6dda0>"
      ]
     },
     "metadata": {
      "needs_background": "light"
     },
     "output_type": "display_data"
    }
   ],
   "source": [
    "page_review_list = ['Help','Home','Logout','Roll Advert','Save Settings']\n",
    "boxplot = page_count_pivot.groupby('Churn',as_index=False).boxplot(column=page_review_list, figsize=(20,5))"
   ]
  },
  {
   "cell_type": "code",
   "execution_count": 56,
   "metadata": {},
   "outputs": [
    {
     "data": {
      "image/png": "[encoded data removed]",
      "text/plain": [
       "<matplotlib.figure.Figure at 0x7f1570722550>"
      ]
     },
     "metadata": {
      "needs_background": "light"
     },
     "output_type": "display_data"
    }
   ],
   "source": [
    "page_review_list = ['Settings', 'Submit Downgrade','Submit Upgrade','Thumbs Down','Thumbs Up','Upgrade']\n",
    "boxplot = page_count_pivot.groupby('Churn',as_index=False).boxplot(column=page_review_list, figsize=(20,5))"
   ]
  },
  {
   "cell_type": "code",
   "execution_count": 57,
   "metadata": {},
   "outputs": [
    {
     "name": "stdout",
     "output_type": "stream",
     "text": [
      "z_stat: 0.017, p_value: 0.987\n",
      "Fail to reject the null hypothesis - proportions from the two populations based on 'About' are the same \n",
      "z_stat: -0.017, p_value: 0.986\n",
      "Fail to reject the null hypothesis - proportions from the two populations based on 'Thumbs Down' are the same \n",
      "z_stat: 0.016, p_value: 0.988\n",
      "Fail to reject the null hypothesis - proportions from the two populations based on 'Thumbs Down' are the same \n",
      "z_stat: -0.054, p_value: 0.957\n",
      "Fail to reject the null hypothesis - proportions from the two populations based on 'Roll Advert' are the same \n"
     ]
    }
   ],
   "source": [
    "validate_two_sided_hypotesis ('About',[0.002290,0.001292],[1,1])\n",
    "validate_two_sided_hypotesis ('Thumbs Down',[0.010693,0.013385],[1,1])\n",
    "validate_two_sided_hypotesis ('Thumbs Down',[0.055771,0.050845],[1,1])\n",
    "validate_two_sided_hypotesis ('Roll Advert',[0.015471,0.026330],[1,1])"
   ]
  },
  {
   "cell_type": "markdown",
   "metadata": {},
   "source": [
    "- Checking the pages with more difference, that doesn't have a significant difference yet. However, they will be useful to add to our model.\n",
    "\n",
    "#### sessionId"
   ]
  },
  {
   "cell_type": "code",
   "execution_count": 58,
   "metadata": {},
   "outputs": [],
   "source": [
    "# session information \n",
    "session_count_Churn = spark.sql(\"\"\"\n",
    "    SELECT \n",
    "        Churn,\n",
    "        UserId, \n",
    "        SessionId, \n",
    "        COUNT(song) songs_count,\n",
    "        cast((max(ts) - min(ts))/3600000.0 as Integer) session_duration_hours\n",
    "        FROM Sparkify_churn_view\n",
    "    GROUP BY Churn,UserId,SessionId\n",
    "\"\"\").toPandas()"
   ]
  },
  {
   "cell_type": "code",
   "execution_count": 59,
   "metadata": {},
   "outputs": [
    {
     "data": {
      "text/html": [
       "<div>\n",
       "<style scoped>\n",
       "    .dataframe tbody tr th:only-of-type {\n",
       "        vertical-align: middle;\n",
       "    }\n",
       "\n",
       "    .dataframe tbody tr th {\n",
       "        vertical-align: top;\n",
       "    }\n",
       "\n",
       "    .dataframe thead tr th {\n",
       "        text-align: left;\n",
       "    }\n",
       "\n",
       "    .dataframe thead tr:last-of-type th {\n",
       "        text-align: right;\n",
       "    }\n",
       "</style>\n",
       "<table border=\"1\" class=\"dataframe\">\n",
       "  <thead>\n",
       "    <tr>\n",
       "      <th></th>\n",
       "      <th colspan=\"8\" halign=\"left\">session_duration_hours</th>\n",
       "      <th colspan=\"8\" halign=\"left\">songs_count</th>\n",
       "    </tr>\n",
       "    <tr>\n",
       "      <th></th>\n",
       "      <th>count</th>\n",
       "      <th>mean</th>\n",
       "      <th>std</th>\n",
       "      <th>min</th>\n",
       "      <th>25%</th>\n",
       "      <th>50%</th>\n",
       "      <th>75%</th>\n",
       "      <th>max</th>\n",
       "      <th>count</th>\n",
       "      <th>mean</th>\n",
       "      <th>std</th>\n",
       "      <th>min</th>\n",
       "      <th>25%</th>\n",
       "      <th>50%</th>\n",
       "      <th>75%</th>\n",
       "      <th>max</th>\n",
       "    </tr>\n",
       "    <tr>\n",
       "      <th>Churn</th>\n",
       "      <th></th>\n",
       "      <th></th>\n",
       "      <th></th>\n",
       "      <th></th>\n",
       "      <th></th>\n",
       "      <th></th>\n",
       "      <th></th>\n",
       "      <th></th>\n",
       "      <th></th>\n",
       "      <th></th>\n",
       "      <th></th>\n",
       "      <th></th>\n",
       "      <th></th>\n",
       "      <th></th>\n",
       "      <th></th>\n",
       "      <th></th>\n",
       "    </tr>\n",
       "  </thead>\n",
       "  <tbody>\n",
       "    <tr>\n",
       "      <th>0</th>\n",
       "      <td>2639.0</td>\n",
       "      <td>4.586965</td>\n",
       "      <td>6.523236</td>\n",
       "      <td>0.0</td>\n",
       "      <td>0.0</td>\n",
       "      <td>2.0</td>\n",
       "      <td>6.0</td>\n",
       "      <td>74.0</td>\n",
       "      <td>2639.0</td>\n",
       "      <td>72.646457</td>\n",
       "      <td>93.677255</td>\n",
       "      <td>0.0</td>\n",
       "      <td>15.0</td>\n",
       "      <td>40.0</td>\n",
       "      <td>91.5</td>\n",
       "      <td>1093.0</td>\n",
       "    </tr>\n",
       "    <tr>\n",
       "      <th>1</th>\n",
       "      <td>537.0</td>\n",
       "      <td>4.243948</td>\n",
       "      <td>6.252618</td>\n",
       "      <td>0.0</td>\n",
       "      <td>0.0</td>\n",
       "      <td>2.0</td>\n",
       "      <td>5.0</td>\n",
       "      <td>55.0</td>\n",
       "      <td>537.0</td>\n",
       "      <td>67.772812</td>\n",
       "      <td>88.168113</td>\n",
       "      <td>0.0</td>\n",
       "      <td>13.0</td>\n",
       "      <td>38.0</td>\n",
       "      <td>86.0</td>\n",
       "      <td>708.0</td>\n",
       "    </tr>\n",
       "  </tbody>\n",
       "</table>\n",
       "</div>"
      ],
      "text/plain": [
       "      session_duration_hours                                                \\\n",
       "                       count      mean       std  min  25%  50%  75%   max   \n",
       "Churn                                                                        \n",
       "0                     2639.0  4.586965  6.523236  0.0  0.0  2.0  6.0  74.0   \n",
       "1                      537.0  4.243948  6.252618  0.0  0.0  2.0  5.0  55.0   \n",
       "\n",
       "      songs_count                                                       \n",
       "            count       mean        std  min   25%   50%   75%     max  \n",
       "Churn                                                                   \n",
       "0          2639.0  72.646457  93.677255  0.0  15.0  40.0  91.5  1093.0  \n",
       "1           537.0  67.772812  88.168113  0.0  13.0  38.0  86.0   708.0  "
      ]
     },
     "execution_count": 59,
     "metadata": {},
     "output_type": "execute_result"
    }
   ],
   "source": [
    "session_count_Churn.groupby('Churn')[\"session_duration_hours\",\"songs_count\"].describe()"
   ]
  },
  {
   "cell_type": "code",
   "execution_count": 60,
   "metadata": {},
   "outputs": [
    {
     "data": {
      "image/png": "[encoded data removed]",
      "text/plain": [
       "<matplotlib.figure.Figure at 0x7f1569795b70>"
      ]
     },
     "metadata": {
      "needs_background": "light"
     },
     "output_type": "display_data"
    }
   ],
   "source": [
    "boxplot = session_count_Churn.groupby('Churn',as_index=False)[\"session_duration_hours\"].boxplot(column=['session_duration_hours'])"
   ]
  },
  {
   "cell_type": "code",
   "execution_count": 61,
   "metadata": {},
   "outputs": [
    {
     "data": {
      "image/png": "[encoded data removed]",
      "text/plain": [
       "<matplotlib.figure.Figure at 0x7f15697bbb70>"
      ]
     },
     "metadata": {
      "needs_background": "light"
     },
     "output_type": "display_data"
    }
   ],
   "source": [
    "boxplot = session_count_Churn.groupby('Churn',as_index=False)[\"songs_count\"].boxplot(column=['songs_count'])"
   ]
  },
  {
   "cell_type": "markdown",
   "metadata": {},
   "source": [
    "- On average  the persons that have Churned, they spend a little bit less time that the ones that doesn't; "
   ]
  },
  {
   "cell_type": "markdown",
   "metadata": {},
   "source": [
    "#### status"
   ]
  },
  {
   "cell_type": "code",
   "execution_count": 62,
   "metadata": {},
   "outputs": [
    {
     "data": {
      "text/html": [
       "<div>\n",
       "<style scoped>\n",
       "    .dataframe tbody tr th:only-of-type {\n",
       "        vertical-align: middle;\n",
       "    }\n",
       "\n",
       "    .dataframe tbody tr th {\n",
       "        vertical-align: top;\n",
       "    }\n",
       "\n",
       "    .dataframe thead tr th {\n",
       "        text-align: left;\n",
       "    }\n",
       "\n",
       "    .dataframe thead tr:last-of-type th {\n",
       "        text-align: right;\n",
       "    }\n",
       "</style>\n",
       "<table border=\"1\" class=\"dataframe\">\n",
       "  <thead>\n",
       "    <tr>\n",
       "      <th></th>\n",
       "      <th colspan=\"8\" halign=\"left\">200</th>\n",
       "      <th colspan=\"5\" halign=\"left\">307</th>\n",
       "      <th colspan=\"8\" halign=\"left\">404</th>\n",
       "    </tr>\n",
       "    <tr>\n",
       "      <th></th>\n",
       "      <th>count</th>\n",
       "      <th>mean</th>\n",
       "      <th>std</th>\n",
       "      <th>min</th>\n",
       "      <th>25%</th>\n",
       "      <th>50%</th>\n",
       "      <th>75%</th>\n",
       "      <th>max</th>\n",
       "      <th>count</th>\n",
       "      <th>mean</th>\n",
       "      <th>...</th>\n",
       "      <th>75%</th>\n",
       "      <th>max</th>\n",
       "      <th>count</th>\n",
       "      <th>mean</th>\n",
       "      <th>std</th>\n",
       "      <th>min</th>\n",
       "      <th>25%</th>\n",
       "      <th>50%</th>\n",
       "      <th>75%</th>\n",
       "      <th>max</th>\n",
       "    </tr>\n",
       "    <tr>\n",
       "      <th>Churn</th>\n",
       "      <th></th>\n",
       "      <th></th>\n",
       "      <th></th>\n",
       "      <th></th>\n",
       "      <th></th>\n",
       "      <th></th>\n",
       "      <th></th>\n",
       "      <th></th>\n",
       "      <th></th>\n",
       "      <th></th>\n",
       "      <th></th>\n",
       "      <th></th>\n",
       "      <th></th>\n",
       "      <th></th>\n",
       "      <th></th>\n",
       "      <th></th>\n",
       "      <th></th>\n",
       "      <th></th>\n",
       "      <th></th>\n",
       "      <th></th>\n",
       "      <th></th>\n",
       "    </tr>\n",
       "  </thead>\n",
       "  <tbody>\n",
       "    <tr>\n",
       "      <th>0</th>\n",
       "      <td>2639.0</td>\n",
       "      <td>80.932550</td>\n",
       "      <td>102.051957</td>\n",
       "      <td>1.0</td>\n",
       "      <td>17.0</td>\n",
       "      <td>45.0</td>\n",
       "      <td>103.0</td>\n",
       "      <td>1183.0</td>\n",
       "      <td>2639.0</td>\n",
       "      <td>7.384994</td>\n",
       "      <td>...</td>\n",
       "      <td>10.0</td>\n",
       "      <td>99.0</td>\n",
       "      <td>2639.0</td>\n",
       "      <td>0.083365</td>\n",
       "      <td>0.310090</td>\n",
       "      <td>0.0</td>\n",
       "      <td>0.0</td>\n",
       "      <td>0.0</td>\n",
       "      <td>0.0</td>\n",
       "      <td>3.0</td>\n",
       "    </tr>\n",
       "    <tr>\n",
       "      <th>1</th>\n",
       "      <td>537.0</td>\n",
       "      <td>76.605214</td>\n",
       "      <td>96.356346</td>\n",
       "      <td>1.0</td>\n",
       "      <td>16.0</td>\n",
       "      <td>44.0</td>\n",
       "      <td>98.0</td>\n",
       "      <td>791.0</td>\n",
       "      <td>537.0</td>\n",
       "      <td>6.880819</td>\n",
       "      <td>...</td>\n",
       "      <td>9.0</td>\n",
       "      <td>64.0</td>\n",
       "      <td>537.0</td>\n",
       "      <td>0.059590</td>\n",
       "      <td>0.252203</td>\n",
       "      <td>0.0</td>\n",
       "      <td>0.0</td>\n",
       "      <td>0.0</td>\n",
       "      <td>0.0</td>\n",
       "      <td>2.0</td>\n",
       "    </tr>\n",
       "  </tbody>\n",
       "</table>\n",
       "<p>2 rows × 24 columns</p>\n",
       "</div>"
      ],
      "text/plain": [
       "          200                                                            307  \\\n",
       "        count       mean         std  min   25%   50%    75%     max   count   \n",
       "Churn                                                                          \n",
       "0      2639.0  80.932550  102.051957  1.0  17.0  45.0  103.0  1183.0  2639.0   \n",
       "1       537.0  76.605214   96.356346  1.0  16.0  44.0   98.0   791.0   537.0   \n",
       "\n",
       "                ...                  404                                     \\\n",
       "           mean ...    75%   max   count      mean       std  min  25%  50%   \n",
       "Churn           ...                                                           \n",
       "0      7.384994 ...   10.0  99.0  2639.0  0.083365  0.310090  0.0  0.0  0.0   \n",
       "1      6.880819 ...    9.0  64.0   537.0  0.059590  0.252203  0.0  0.0  0.0   \n",
       "\n",
       "                 \n",
       "       75%  max  \n",
       "Churn            \n",
       "0      0.0  3.0  \n",
       "1      0.0  2.0  \n",
       "\n",
       "[2 rows x 24 columns]"
      ]
     },
     "execution_count": 62,
     "metadata": {},
     "output_type": "execute_result"
    }
   ],
   "source": [
    "# describe status by Session\n",
    "status_count_churn = df_churn.groupBy(['Churn','UserId','SessionId']).pivot('status').count().na.fill(0).toPandas()\n",
    "status_count_churn.groupby('Churn')[\"200\",\"307\",\"404\"].describe()"
   ]
  },
  {
   "cell_type": "code",
   "execution_count": 63,
   "metadata": {},
   "outputs": [
    {
     "data": {
      "image/png": "[encoded data removed]",
      "text/plain": [
       "<matplotlib.figure.Figure at 0x7f1569683080>"
      ]
     },
     "metadata": {
      "needs_background": "light"
     },
     "output_type": "display_data"
    }
   ],
   "source": [
    "boxplot = status_count_churn.groupby('Churn',as_index=False)[\"200\"].boxplot(column=['200'])"
   ]
  },
  {
   "cell_type": "markdown",
   "metadata": {},
   "source": [
    "- the application has similar behavior for the states.\n",
    "#### time"
   ]
  },
  {
   "cell_type": "code",
   "execution_count": 64,
   "metadata": {},
   "outputs": [],
   "source": [
    "hour_data_Churn =  spark.sql(\"\"\"\n",
    "    SELECT  \n",
    "        Churn,\n",
    "        dayOfWeek(from_unixtime( ts/1000.00)) dayofweek,\n",
    "        hour(from_unixtime( ts/1000.00)) hour,\n",
    "        count(*) count\n",
    "    FROM Sparkify_churn_view\n",
    "    group by \n",
    "        Churn,\n",
    "        dayOfWeek(from_unixtime( ts/1000.00)) ,\n",
    "        dayofmonth(from_unixtime( ts/1000.00)) ,\n",
    "        hour(from_unixtime( ts/1000.00)) \n",
    "        \n",
    "    \n",
    "\"\"\").toPandas()"
   ]
  },
  {
   "cell_type": "code",
   "execution_count": 65,
   "metadata": {},
   "outputs": [
    {
     "data": {
      "text/plain": [
       "<matplotlib.axes._subplots.AxesSubplot at 0x7f15698977b8>"
      ]
     },
     "execution_count": 65,
     "metadata": {},
     "output_type": "execute_result"
    },
    {
     "data": {
      "image/png": "[encoded data removed]",
      "text/plain": [
       "<matplotlib.figure.Figure at 0x7f1569581c88>"
      ]
     },
     "metadata": {
      "needs_background": "light"
     },
     "output_type": "display_data"
    }
   ],
   "source": [
    "hour_data_scaled = scale_data_by_Churn(hour_data_Churn,'dayofweek','count')\n",
    "hour_data_scaled.plot.bar(rot=0,title = 'event count(scaled) by day of week', figsize=(5,5))"
   ]
  },
  {
   "cell_type": "markdown",
   "metadata": {},
   "source": [
    "- the biggest difference is at saturday\n",
    "#### User agent"
   ]
  },
  {
   "cell_type": "code",
   "execution_count": 66,
   "metadata": {},
   "outputs": [],
   "source": [
    "#User Agent\n",
    "df_os_family = (df_churn\n",
    "                .withColumn('OS_family',udf_os_family(df.userAgent))\n",
    "                .withColumn('device_family',udf_device_family(df.userAgent))\n",
    "                .withColumn('browser_family',udf_browser_family(df.userAgent))\n",
    "               )\n",
    "#each user is connection only by a common userAgent\n",
    "df_pivot_device = df_os_family.groupBy([\"Churn\",\"userId\",\"device_family\"]).agg(F.lit(1)).na.fill(0).toPandas().drop(columns=['userId'])\n",
    "df_pivot_browser = df_os_family.groupBy([\"Churn\",\"userId\",\"browser_family\"]).agg(F.lit(1)).na.fill(0).toPandas().drop(columns=['userId'])\n",
    "df_pivot_OS = df_os_family.groupBy([\"Churn\",\"userId\",\"OS_family\"]).agg(F.lit(1)).na.fill(0).toPandas().drop(columns=['userId'])"
   ]
  },
  {
   "cell_type": "code",
   "execution_count": 67,
   "metadata": {},
   "outputs": [
    {
     "data": {
      "text/plain": [
       "<matplotlib.axes._subplots.AxesSubplot at 0x7f156958c4a8>"
      ]
     },
     "execution_count": 67,
     "metadata": {},
     "output_type": "execute_result"
    },
    {
     "data": {
      "image/png": "[encoded data removed]",
      "text/plain": [
       "<matplotlib.figure.Figure at 0x7f15694e50f0>"
      ]
     },
     "metadata": {
      "needs_background": "light"
     },
     "output_type": "display_data"
    }
   ],
   "source": [
    "df_pivot_device_scaled = scale_data_by_Churn(df_pivot_device,'device_family','1')\n",
    "df_pivot_device_scaled.plot.bar(rot=0,title = 'device count(scaled) by users', figsize=(5,5))"
   ]
  },
  {
   "cell_type": "code",
   "execution_count": 68,
   "metadata": {},
   "outputs": [
    {
     "data": {
      "text/plain": [
       "<matplotlib.axes._subplots.AxesSubplot at 0x7f15695b1e10>"
      ]
     },
     "execution_count": 68,
     "metadata": {},
     "output_type": "execute_result"
    },
    {
     "data": {
      "image/png": "[encoded data removed]",
      "text/plain": [
       "<matplotlib.figure.Figure at 0x7f156946b8d0>"
      ]
     },
     "metadata": {
      "needs_background": "light"
     },
     "output_type": "display_data"
    }
   ],
   "source": [
    "df_pivot_browser_scaled = scale_data_by_Churn(df_pivot_browser,'browser_family','1')\n",
    "df_pivot_browser_scaled.plot.bar(rot=0,title = 'browser count(scaled) by users', figsize=(5,5))"
   ]
  },
  {
   "cell_type": "code",
   "execution_count": 69,
   "metadata": {},
   "outputs": [
    {
     "data": {
      "text/plain": [
       "<matplotlib.axes._subplots.AxesSubplot at 0x7f1569462198>"
      ]
     },
     "execution_count": 69,
     "metadata": {},
     "output_type": "execute_result"
    },
    {
     "data": {
      "image/png": "[encoded data removed]",
      "text/plain": [
       "<matplotlib.figure.Figure at 0x7f15693e31d0>"
      ]
     },
     "metadata": {
      "needs_background": "light"
     },
     "output_type": "display_data"
    }
   ],
   "source": [
    "df_pivot_OS_scaled = scale_data_by_Churn(df_pivot_OS,'OS_family','1')\n",
    "df_pivot_OS_scaled.plot.bar(rot=0,title = 'Operatin system count(scaled) by users', figsize=(5,5))"
   ]
  },
  {
   "cell_type": "markdown",
   "metadata": {},
   "source": [
    "- There are more difference by OS and browser"
   ]
  },
  {
   "cell_type": "markdown",
   "metadata": {},
   "source": [
    "# Feature Engineering\n",
    "Once you've familiarized yourself with the data, build out the features you find promising to train your model on. To work with the full dataset, you can follow the following steps.\n",
    "- Write a script to extract the necessary features from the smaller subset of data\n",
    "- Ensure that your script is scalable, using the best practices discussed in Lesson 3\n",
    "- Try your script on the full data set, debugging your script if necessary\n",
    "\n",
    "If you are working in the classroom workspace, you can just extract features based on the small subset of data contained here. Be sure to transfer over this work to the larger dataset when you work on your Spark cluster."
   ]
  },
  {
   "cell_type": "markdown",
   "metadata": {},
   "source": [
    "### Features to extract based on the data exploration and Churn definition\n",
    "Th data will be present by userId\n",
    "1. Categorical Features (need label encoding)\n",
    " - gender\n",
    " - pages (remove `Cancellation Confirmation` and `Cancel`)\n",
    " - Browser (extracted from `userAgent`)\n",
    " - OS (extracted from `userAgent`)\n",
    "2. Numerical Features (need to be scaled)\n",
    " - mean of songs in a session\n",
    " - mean of session duration  (in hours)\n",
    " - mean of events (registers) in a session\n",
    " - days of use"
   ]
  },
  {
   "cell_type": "code",
   "execution_count": 70,
   "metadata": {},
   "outputs": [],
   "source": [
    "def df_rename_columns (df, column_name_prefix,not_add_prefix_columns=['userId']):\n",
    "    \"\"\"\n",
    "    rename columns in a spark dataframe\n",
    "    \n",
    "    :param df: spark dataframe - dataframe to work on \n",
    "    :param column_name_prefix: string - string to add as a prefix for each column\n",
    "    :param not_add_prefix_columns: list - list of columns to not add the prefix\n",
    "    :return: spark dataframe - dataframe with the columns modified\n",
    "    \"\"\"\n",
    "    \n",
    "    df_column_names = df.schema.names\n",
    "    column_names = [column for column in df_column_names if column not in not_add_prefix_columns]\n",
    "    df = reduce(lambda data, idx: data.withColumnRenamed(column_names[idx], \n",
    "                                                               column_name_prefix + '_' + column_names[idx]\n",
    "                                                               .lower()\n",
    "                                                               .replace(' ','_')), \n",
    "                      range(len(column_names)), df)\n",
    "    return df"
   ]
  },
  {
   "cell_type": "code",
   "execution_count": 71,
   "metadata": {},
   "outputs": [],
   "source": [
    "def df_pivot_normalize (df, \n",
    "                        pivot_column_name , \n",
    "                        columns_to_drop =['sessionId'], \n",
    "                        main_group_by = ['userId'], \n",
    "                        intermediate_group_by = ['userId','sessionId'] ):\n",
    "    \"\"\"\n",
    "    perform pivot to generate label encoding data from categorical column \n",
    "    and normilize the cout related to the other categorical variables\n",
    "    \n",
    "    :param df: spark dataframe - dataframe to work on \n",
    "    :param pivot_column_name: string - column to perform pivot (column with categorical data)\n",
    "    :param columns_to_drop: list - column to drop, the reason is because normally the session will not be necessary anymore\n",
    "    :param main_group_by: list - list of columns to broup by and return the data\n",
    "    :param intermediate_group_by: list - list of columns tro group by \n",
    "    :return: spark dataframe - dataframe with the new columns\n",
    "    \"\"\"\n",
    "    df_pivot = df.groupBy(intermediate_group_by).pivot(pivot_column_name).count().na.fill(0)\n",
    "\n",
    "    # get column names that need to be normalized\n",
    "    cols = [col for col in df_pivot.columns if col not in intermediate_group_by]\n",
    "\n",
    "    # sum the columns by row\n",
    "    rowsum = sum([df_pivot[x] for x in cols])\n",
    "\n",
    "    # select userId and SessionId and normalize other columns by rowsum\n",
    "    df_pivot = df_pivot.select(*(intermediate_group_by), \n",
    "                               *((df_pivot[x] / rowsum)\n",
    "                                 .alias(pivot_column_name+'_'+x.lower().replace(' ','_')) for x in cols))\n",
    "\n",
    "    #get colum names previous to group by\n",
    "    Expected_column_names = df_pivot.schema.names \n",
    "    \n",
    "    #group by according to \n",
    "    df_pivot  = df_pivot.groupBy(main_group_by).avg().na.fill(0)\n",
    "\n",
    "    to_replace_column_names = df_pivot.schema.names\n",
    "\n",
    "    #replace names as previous to the groupBy\n",
    "    df_pivot = reduce(lambda data, idx: data.withColumnRenamed(to_replace_column_names[idx], Expected_column_names[idx]), \n",
    "                      range(len(to_replace_column_names)), df_pivot)\n",
    "\n",
    "    # remove sessionId column\n",
    "    df_pivot = df_pivot.drop(*columns_to_drop)\n",
    "    \n",
    "    return df_pivot"
   ]
  },
  {
   "cell_type": "code",
   "execution_count": 72,
   "metadata": {},
   "outputs": [],
   "source": [
    "def df_scale (df, not_scale_columns =['userId']):\n",
    "    \"\"\"\n",
    "    perform scale on each column of the dataframe\n",
    "    \n",
    "    :param df: spark dataframe - dataframe to work on \n",
    "    :param not_scale_columns: list - list of column names that do not need reescaling\n",
    "    \"\"\"\n",
    "    unlist = udf(lambda x: round(float(list(x)[0]),5), DoubleType())\n",
    "    \n",
    "    df_column_names = df.schema.names \n",
    "    columns = [column for column in df_column_names if column not in not_scale_columns]\n",
    "\n",
    "    for column in columns:\n",
    "        column_scaled = column+\"_scaled\"\n",
    "        if column_scaled not in columns:\n",
    "            # VectorAssembler Transformation - Converting column to vector type\n",
    "            column_vector = column+\"_vector\"\n",
    "            assembler = VectorAssembler(inputCols=[column],outputCol=column_vector)\n",
    "\n",
    "            # get scaler (MinMaxScaler) Transformation\n",
    "            scaler = MinMaxScaler(inputCol=column_vector, outputCol=column_scaled)\n",
    "\n",
    "            # Pipeline of VectorAssembler and MinMaxScaler\n",
    "            pipeline = Pipeline(stages=[assembler, scaler])\n",
    "\n",
    "            # fitting pipeline on dataframe\n",
    "            df = pipeline.fit(df).transform(df).withColumn(column_scaled, unlist(column_scaled)).drop(column_vector)\n",
    "\n",
    "            df = df.drop(column)\n",
    "    return df\n",
    "    \n"
   ]
  },
  {
   "cell_type": "code",
   "execution_count": 73,
   "metadata": {},
   "outputs": [
    {
     "data": {
      "text/html": [
       "<div>\n",
       "<style scoped>\n",
       "    .dataframe tbody tr th:only-of-type {\n",
       "        vertical-align: middle;\n",
       "    }\n",
       "\n",
       "    .dataframe tbody tr th {\n",
       "        vertical-align: top;\n",
       "    }\n",
       "\n",
       "    .dataframe thead th {\n",
       "        text-align: right;\n",
       "    }\n",
       "</style>\n",
       "<table border=\"1\" class=\"dataframe\">\n",
       "  <thead>\n",
       "    <tr style=\"text-align: right;\">\n",
       "      <th></th>\n",
       "      <th>userId</th>\n",
       "      <th>Churn</th>\n",
       "      <th>level</th>\n",
       "      <th>gender</th>\n",
       "      <th>lenght_avg_scaled</th>\n",
       "    </tr>\n",
       "  </thead>\n",
       "  <tbody>\n",
       "    <tr>\n",
       "      <th>0</th>\n",
       "      <td>100010</td>\n",
       "      <td>0</td>\n",
       "      <td>0</td>\n",
       "      <td>0</td>\n",
       "      <td>0.42822</td>\n",
       "    </tr>\n",
       "    <tr>\n",
       "      <th>1</th>\n",
       "      <td>200002</td>\n",
       "      <td>0</td>\n",
       "      <td>1</td>\n",
       "      <td>1</td>\n",
       "      <td>0.41638</td>\n",
       "    </tr>\n",
       "    <tr>\n",
       "      <th>2</th>\n",
       "      <td>125</td>\n",
       "      <td>1</td>\n",
       "      <td>0</td>\n",
       "      <td>1</td>\n",
       "      <td>0.84434</td>\n",
       "    </tr>\n",
       "    <tr>\n",
       "      <th>3</th>\n",
       "      <td>124</td>\n",
       "      <td>0</td>\n",
       "      <td>1</td>\n",
       "      <td>0</td>\n",
       "      <td>0.53990</td>\n",
       "    </tr>\n",
       "    <tr>\n",
       "      <th>4</th>\n",
       "      <td>51</td>\n",
       "      <td>1</td>\n",
       "      <td>1</td>\n",
       "      <td>1</td>\n",
       "      <td>0.53295</td>\n",
       "    </tr>\n",
       "  </tbody>\n",
       "</table>\n",
       "</div>"
      ],
      "text/plain": [
       "   userId  Churn  level  gender  lenght_avg_scaled\n",
       "0  100010      0      0       0            0.42822\n",
       "1  200002      0      1       1            0.41638\n",
       "2     125      1      0       1            0.84434\n",
       "3     124      0      1       0            0.53990\n",
       "4      51      1      1       1            0.53295"
      ]
     },
     "execution_count": 73,
     "metadata": {},
     "output_type": "execute_result"
    }
   ],
   "source": [
    "df_user =  spark.sql(\"\"\"\n",
    "    SELECT  userId, \n",
    "            max(Churn) Churn, \n",
    "            max(case when level = 'paid' then 1 else 0 end ) level,\n",
    "            max(case when gender = 'M' then 1 else 0 end ) gender,\n",
    "            avg(length) lenght_avg\n",
    "        FROM Sparkify_churn_view\n",
    "        group by userId\n",
    "    \n",
    "\"\"\")\n",
    "df_user = df_scale(df_user,['userId','Churn','gender','level'])\n",
    "df_user.limit(5).toPandas()"
   ]
  },
  {
   "cell_type": "code",
   "execution_count": 74,
   "metadata": {},
   "outputs": [
    {
     "data": {
      "text/html": [
       "<div>\n",
       "<style scoped>\n",
       "    .dataframe tbody tr th:only-of-type {\n",
       "        vertical-align: middle;\n",
       "    }\n",
       "\n",
       "    .dataframe tbody tr th {\n",
       "        vertical-align: top;\n",
       "    }\n",
       "\n",
       "    .dataframe thead th {\n",
       "        text-align: right;\n",
       "    }\n",
       "</style>\n",
       "<table border=\"1\" class=\"dataframe\">\n",
       "  <thead>\n",
       "    <tr style=\"text-align: right;\">\n",
       "      <th></th>\n",
       "      <th>userId</th>\n",
       "      <th>day_of_week_1_scaled</th>\n",
       "      <th>day_of_week_2_scaled</th>\n",
       "      <th>day_of_week_3_scaled</th>\n",
       "      <th>day_of_week_4_scaled</th>\n",
       "      <th>day_of_week_5_scaled</th>\n",
       "      <th>day_of_week_6_scaled</th>\n",
       "      <th>day_of_week_7_scaled</th>\n",
       "    </tr>\n",
       "  </thead>\n",
       "  <tbody>\n",
       "    <tr>\n",
       "      <th>0</th>\n",
       "      <td>100010</td>\n",
       "      <td>0.00000</td>\n",
       "      <td>0.42857</td>\n",
       "      <td>0.14286</td>\n",
       "      <td>0.14286</td>\n",
       "      <td>0.00000</td>\n",
       "      <td>0.14286</td>\n",
       "      <td>0.14286</td>\n",
       "    </tr>\n",
       "    <tr>\n",
       "      <th>1</th>\n",
       "      <td>200002</td>\n",
       "      <td>0.00000</td>\n",
       "      <td>0.29450</td>\n",
       "      <td>0.37217</td>\n",
       "      <td>0.00000</td>\n",
       "      <td>0.33333</td>\n",
       "      <td>0.00000</td>\n",
       "      <td>0.00000</td>\n",
       "    </tr>\n",
       "    <tr>\n",
       "      <th>2</th>\n",
       "      <td>125</td>\n",
       "      <td>0.00000</td>\n",
       "      <td>0.00000</td>\n",
       "      <td>0.00000</td>\n",
       "      <td>0.00000</td>\n",
       "      <td>0.00000</td>\n",
       "      <td>1.00000</td>\n",
       "      <td>0.00000</td>\n",
       "    </tr>\n",
       "    <tr>\n",
       "      <th>3</th>\n",
       "      <td>51</td>\n",
       "      <td>0.06837</td>\n",
       "      <td>0.29770</td>\n",
       "      <td>0.19862</td>\n",
       "      <td>0.11495</td>\n",
       "      <td>0.19797</td>\n",
       "      <td>0.14206</td>\n",
       "      <td>0.01452</td>\n",
       "    </tr>\n",
       "    <tr>\n",
       "      <th>4</th>\n",
       "      <td>124</td>\n",
       "      <td>0.06529</td>\n",
       "      <td>0.20814</td>\n",
       "      <td>0.13840</td>\n",
       "      <td>0.20518</td>\n",
       "      <td>0.09048</td>\n",
       "      <td>0.26804</td>\n",
       "      <td>0.05711</td>\n",
       "    </tr>\n",
       "  </tbody>\n",
       "</table>\n",
       "</div>"
      ],
      "text/plain": [
       "   userId  day_of_week_1_scaled  day_of_week_2_scaled  day_of_week_3_scaled  \\\n",
       "0  100010               0.00000               0.42857               0.14286   \n",
       "1  200002               0.00000               0.29450               0.37217   \n",
       "2     125               0.00000               0.00000               0.00000   \n",
       "3      51               0.06837               0.29770               0.19862   \n",
       "4     124               0.06529               0.20814               0.13840   \n",
       "\n",
       "   day_of_week_4_scaled  day_of_week_5_scaled  day_of_week_6_scaled  \\\n",
       "0               0.14286               0.00000               0.14286   \n",
       "1               0.00000               0.33333               0.00000   \n",
       "2               0.00000               0.00000               1.00000   \n",
       "3               0.11495               0.19797               0.14206   \n",
       "4               0.20518               0.09048               0.26804   \n",
       "\n",
       "   day_of_week_7_scaled  \n",
       "0               0.14286  \n",
       "1               0.00000  \n",
       "2               0.00000  \n",
       "3               0.01452  \n",
       "4               0.05711  "
      ]
     },
     "execution_count": 74,
     "metadata": {},
     "output_type": "execute_result"
    }
   ],
   "source": [
    "df_day_week =  spark.sql(\"\"\"\n",
    "    SELECT  \n",
    "            userId,\n",
    "            sessionId, \n",
    "            dayOfWeek(from_unixtime( ts/1000.00)) day_of_week\n",
    "        FROM Sparkify_view   \n",
    "\"\"\")\n",
    "df_pivot_day_week = df_pivot_normalize(df = df_day_week, pivot_column_name = \"day_of_week\")\n",
    "df_pivot_day_week = df_scale(df_pivot_day_week)\n",
    "df_pivot_day_week.limit(5).toPandas()"
   ]
  },
  {
   "cell_type": "code",
   "execution_count": 75,
   "metadata": {},
   "outputs": [],
   "source": [
    "udf_os_family = udf(lambda x: parse(x).os.family, StringType())\n",
    "udf_browser_family = udf(lambda x: parse(x).browser.family, StringType())\n",
    "\n",
    "df_os_family = (df\n",
    "                .withColumn('OS_family',udf_os_family(df.userAgent))\n",
    "                .withColumn('browser_family',udf_browser_family(df.userAgent))\n",
    "               )\n",
    "#each user is connection only by a common userAgent\n",
    "df_pivot_browser = df_rename_columns(df_os_family.groupBy(\"userId\").pivot(\"browser_family\").agg(F.lit(1)).na.fill(0),'browser')\n",
    "df_pivot_OS = df_rename_columns(df_os_family.groupBy(\"userId\").pivot(\"OS_family\").agg(F.lit(1)).na.fill(0),'OS')"
   ]
  },
  {
   "cell_type": "code",
   "execution_count": 76,
   "metadata": {},
   "outputs": [
    {
     "data": {
      "text/html": [
       "<div>\n",
       "<style scoped>\n",
       "    .dataframe tbody tr th:only-of-type {\n",
       "        vertical-align: middle;\n",
       "    }\n",
       "\n",
       "    .dataframe tbody tr th {\n",
       "        vertical-align: top;\n",
       "    }\n",
       "\n",
       "    .dataframe thead th {\n",
       "        text-align: right;\n",
       "    }\n",
       "</style>\n",
       "<table border=\"1\" class=\"dataframe\">\n",
       "  <thead>\n",
       "    <tr style=\"text-align: right;\">\n",
       "      <th></th>\n",
       "      <th>userId</th>\n",
       "      <th>browser_chrome</th>\n",
       "      <th>browser_firefox</th>\n",
       "      <th>browser_ie</th>\n",
       "      <th>browser_mobile_safari</th>\n",
       "      <th>browser_safari</th>\n",
       "    </tr>\n",
       "  </thead>\n",
       "  <tbody>\n",
       "    <tr>\n",
       "      <th>0</th>\n",
       "      <td>100010</td>\n",
       "      <td>0</td>\n",
       "      <td>0</td>\n",
       "      <td>0</td>\n",
       "      <td>1</td>\n",
       "      <td>0</td>\n",
       "    </tr>\n",
       "    <tr>\n",
       "      <th>1</th>\n",
       "      <td>200002</td>\n",
       "      <td>0</td>\n",
       "      <td>0</td>\n",
       "      <td>0</td>\n",
       "      <td>1</td>\n",
       "      <td>0</td>\n",
       "    </tr>\n",
       "    <tr>\n",
       "      <th>2</th>\n",
       "      <td>125</td>\n",
       "      <td>1</td>\n",
       "      <td>0</td>\n",
       "      <td>0</td>\n",
       "      <td>0</td>\n",
       "      <td>0</td>\n",
       "    </tr>\n",
       "    <tr>\n",
       "      <th>3</th>\n",
       "      <td>51</td>\n",
       "      <td>1</td>\n",
       "      <td>0</td>\n",
       "      <td>0</td>\n",
       "      <td>0</td>\n",
       "      <td>0</td>\n",
       "    </tr>\n",
       "    <tr>\n",
       "      <th>4</th>\n",
       "      <td>124</td>\n",
       "      <td>1</td>\n",
       "      <td>0</td>\n",
       "      <td>0</td>\n",
       "      <td>0</td>\n",
       "      <td>0</td>\n",
       "    </tr>\n",
       "  </tbody>\n",
       "</table>\n",
       "</div>"
      ],
      "text/plain": [
       "   userId  browser_chrome  browser_firefox  browser_ie  browser_mobile_safari  \\\n",
       "0  100010               0                0           0                      1   \n",
       "1  200002               0                0           0                      1   \n",
       "2     125               1                0           0                      0   \n",
       "3      51               1                0           0                      0   \n",
       "4     124               1                0           0                      0   \n",
       "\n",
       "   browser_safari  \n",
       "0               0  \n",
       "1               0  \n",
       "2               0  \n",
       "3               0  \n",
       "4               0  "
      ]
     },
     "execution_count": 76,
     "metadata": {},
     "output_type": "execute_result"
    }
   ],
   "source": [
    "df_pivot_browser.limit(5).toPandas()"
   ]
  },
  {
   "cell_type": "code",
   "execution_count": 77,
   "metadata": {},
   "outputs": [
    {
     "data": {
      "text/html": [
       "<div>\n",
       "<style scoped>\n",
       "    .dataframe tbody tr th:only-of-type {\n",
       "        vertical-align: middle;\n",
       "    }\n",
       "\n",
       "    .dataframe tbody tr th {\n",
       "        vertical-align: top;\n",
       "    }\n",
       "\n",
       "    .dataframe thead th {\n",
       "        text-align: right;\n",
       "    }\n",
       "</style>\n",
       "<table border=\"1\" class=\"dataframe\">\n",
       "  <thead>\n",
       "    <tr style=\"text-align: right;\">\n",
       "      <th></th>\n",
       "      <th>userId</th>\n",
       "      <th>OS_linux</th>\n",
       "      <th>OS_mac_os_x</th>\n",
       "      <th>OS_ubuntu</th>\n",
       "      <th>OS_windows</th>\n",
       "      <th>OS_ios</th>\n",
       "    </tr>\n",
       "  </thead>\n",
       "  <tbody>\n",
       "    <tr>\n",
       "      <th>0</th>\n",
       "      <td>100010</td>\n",
       "      <td>0</td>\n",
       "      <td>0</td>\n",
       "      <td>0</td>\n",
       "      <td>0</td>\n",
       "      <td>1</td>\n",
       "    </tr>\n",
       "    <tr>\n",
       "      <th>1</th>\n",
       "      <td>200002</td>\n",
       "      <td>0</td>\n",
       "      <td>0</td>\n",
       "      <td>0</td>\n",
       "      <td>0</td>\n",
       "      <td>1</td>\n",
       "    </tr>\n",
       "    <tr>\n",
       "      <th>2</th>\n",
       "      <td>125</td>\n",
       "      <td>0</td>\n",
       "      <td>1</td>\n",
       "      <td>0</td>\n",
       "      <td>0</td>\n",
       "      <td>0</td>\n",
       "    </tr>\n",
       "    <tr>\n",
       "      <th>3</th>\n",
       "      <td>51</td>\n",
       "      <td>0</td>\n",
       "      <td>0</td>\n",
       "      <td>0</td>\n",
       "      <td>1</td>\n",
       "      <td>0</td>\n",
       "    </tr>\n",
       "    <tr>\n",
       "      <th>4</th>\n",
       "      <td>124</td>\n",
       "      <td>0</td>\n",
       "      <td>1</td>\n",
       "      <td>0</td>\n",
       "      <td>0</td>\n",
       "      <td>0</td>\n",
       "    </tr>\n",
       "  </tbody>\n",
       "</table>\n",
       "</div>"
      ],
      "text/plain": [
       "   userId  OS_linux  OS_mac_os_x  OS_ubuntu  OS_windows  OS_ios\n",
       "0  100010         0            0          0           0       1\n",
       "1  200002         0            0          0           0       1\n",
       "2     125         0            1          0           0       0\n",
       "3      51         0            0          0           1       0\n",
       "4     124         0            1          0           0       0"
      ]
     },
     "execution_count": 77,
     "metadata": {},
     "output_type": "execute_result"
    }
   ],
   "source": [
    "df_pivot_OS.limit(5).toPandas()"
   ]
  },
  {
   "cell_type": "code",
   "execution_count": 78,
   "metadata": {},
   "outputs": [
    {
     "data": {
      "text/html": [
       "<div>\n",
       "<style scoped>\n",
       "    .dataframe tbody tr th:only-of-type {\n",
       "        vertical-align: middle;\n",
       "    }\n",
       "\n",
       "    .dataframe tbody tr th {\n",
       "        vertical-align: top;\n",
       "    }\n",
       "\n",
       "    .dataframe thead th {\n",
       "        text-align: right;\n",
       "    }\n",
       "</style>\n",
       "<table border=\"1\" class=\"dataframe\">\n",
       "  <thead>\n",
       "    <tr style=\"text-align: right;\">\n",
       "      <th></th>\n",
       "      <th>userId</th>\n",
       "      <th>page_about_scaled</th>\n",
       "      <th>page_add_friend_scaled</th>\n",
       "      <th>page_add_to_playlist_scaled</th>\n",
       "      <th>page_downgrade_scaled</th>\n",
       "      <th>page_error_scaled</th>\n",
       "      <th>page_help_scaled</th>\n",
       "      <th>page_home_scaled</th>\n",
       "      <th>page_logout_scaled</th>\n",
       "      <th>page_nextsong_scaled</th>\n",
       "      <th>page_roll_advert_scaled</th>\n",
       "      <th>page_save_settings_scaled</th>\n",
       "      <th>page_settings_scaled</th>\n",
       "      <th>page_submit_downgrade_scaled</th>\n",
       "      <th>page_submit_upgrade_scaled</th>\n",
       "      <th>page_thumbs_down_scaled</th>\n",
       "      <th>page_thumbs_up_scaled</th>\n",
       "      <th>page_upgrade_scaled</th>\n",
       "    </tr>\n",
       "  </thead>\n",
       "  <tbody>\n",
       "    <tr>\n",
       "      <th>0</th>\n",
       "      <td>100010</td>\n",
       "      <td>0.05102</td>\n",
       "      <td>0.04360</td>\n",
       "      <td>0.17386</td>\n",
       "      <td>0.00000</td>\n",
       "      <td>0.00000</td>\n",
       "      <td>0.02191</td>\n",
       "      <td>0.10564</td>\n",
       "      <td>0.18763</td>\n",
       "      <td>0.50549</td>\n",
       "      <td>0.60525</td>\n",
       "      <td>0.00000</td>\n",
       "      <td>0.00000</td>\n",
       "      <td>0.0</td>\n",
       "      <td>0.00000</td>\n",
       "      <td>0.19745</td>\n",
       "      <td>0.28852</td>\n",
       "      <td>0.16029</td>\n",
       "    </tr>\n",
       "    <tr>\n",
       "      <th>1</th>\n",
       "      <td>200002</td>\n",
       "      <td>0.31370</td>\n",
       "      <td>0.06209</td>\n",
       "      <td>0.40326</td>\n",
       "      <td>0.08663</td>\n",
       "      <td>0.00000</td>\n",
       "      <td>0.01094</td>\n",
       "      <td>0.10555</td>\n",
       "      <td>0.07293</td>\n",
       "      <td>0.55884</td>\n",
       "      <td>0.24134</td>\n",
       "      <td>0.00000</td>\n",
       "      <td>0.04649</td>\n",
       "      <td>0.0</td>\n",
       "      <td>0.18421</td>\n",
       "      <td>0.12366</td>\n",
       "      <td>0.42187</td>\n",
       "      <td>0.12099</td>\n",
       "    </tr>\n",
       "    <tr>\n",
       "      <th>2</th>\n",
       "      <td>125</td>\n",
       "      <td>0.00000</td>\n",
       "      <td>0.00000</td>\n",
       "      <td>0.00000</td>\n",
       "      <td>0.00000</td>\n",
       "      <td>0.00000</td>\n",
       "      <td>0.00000</td>\n",
       "      <td>0.00000</td>\n",
       "      <td>0.00000</td>\n",
       "      <td>0.49599</td>\n",
       "      <td>0.48701</td>\n",
       "      <td>0.00000</td>\n",
       "      <td>0.00000</td>\n",
       "      <td>0.0</td>\n",
       "      <td>0.00000</td>\n",
       "      <td>0.00000</td>\n",
       "      <td>0.00000</td>\n",
       "      <td>0.00000</td>\n",
       "    </tr>\n",
       "    <tr>\n",
       "      <th>3</th>\n",
       "      <td>51</td>\n",
       "      <td>0.01589</td>\n",
       "      <td>0.03723</td>\n",
       "      <td>0.25390</td>\n",
       "      <td>0.12677</td>\n",
       "      <td>0.03259</td>\n",
       "      <td>0.04170</td>\n",
       "      <td>0.07542</td>\n",
       "      <td>0.05055</td>\n",
       "      <td>0.73179</td>\n",
       "      <td>0.00000</td>\n",
       "      <td>0.01137</td>\n",
       "      <td>0.02540</td>\n",
       "      <td>0.0</td>\n",
       "      <td>0.00000</td>\n",
       "      <td>0.32047</td>\n",
       "      <td>0.26601</td>\n",
       "      <td>0.00000</td>\n",
       "    </tr>\n",
       "    <tr>\n",
       "      <th>4</th>\n",
       "      <td>124</td>\n",
       "      <td>0.03864</td>\n",
       "      <td>0.06083</td>\n",
       "      <td>0.28420</td>\n",
       "      <td>0.13172</td>\n",
       "      <td>0.08078</td>\n",
       "      <td>0.02283</td>\n",
       "      <td>0.23634</td>\n",
       "      <td>0.13184</td>\n",
       "      <td>0.61700</td>\n",
       "      <td>0.00150</td>\n",
       "      <td>0.07655</td>\n",
       "      <td>0.01608</td>\n",
       "      <td>0.0</td>\n",
       "      <td>0.00000</td>\n",
       "      <td>0.11434</td>\n",
       "      <td>0.26407</td>\n",
       "      <td>0.00000</td>\n",
       "    </tr>\n",
       "  </tbody>\n",
       "</table>\n",
       "</div>"
      ],
      "text/plain": [
       "   userId  page_about_scaled  page_add_friend_scaled  \\\n",
       "0  100010            0.05102                 0.04360   \n",
       "1  200002            0.31370                 0.06209   \n",
       "2     125            0.00000                 0.00000   \n",
       "3      51            0.01589                 0.03723   \n",
       "4     124            0.03864                 0.06083   \n",
       "\n",
       "   page_add_to_playlist_scaled  page_downgrade_scaled  page_error_scaled  \\\n",
       "0                      0.17386                0.00000            0.00000   \n",
       "1                      0.40326                0.08663            0.00000   \n",
       "2                      0.00000                0.00000            0.00000   \n",
       "3                      0.25390                0.12677            0.03259   \n",
       "4                      0.28420                0.13172            0.08078   \n",
       "\n",
       "   page_help_scaled  page_home_scaled  page_logout_scaled  \\\n",
       "0           0.02191           0.10564             0.18763   \n",
       "1           0.01094           0.10555             0.07293   \n",
       "2           0.00000           0.00000             0.00000   \n",
       "3           0.04170           0.07542             0.05055   \n",
       "4           0.02283           0.23634             0.13184   \n",
       "\n",
       "   page_nextsong_scaled  page_roll_advert_scaled  page_save_settings_scaled  \\\n",
       "0               0.50549                  0.60525                    0.00000   \n",
       "1               0.55884                  0.24134                    0.00000   \n",
       "2               0.49599                  0.48701                    0.00000   \n",
       "3               0.73179                  0.00000                    0.01137   \n",
       "4               0.61700                  0.00150                    0.07655   \n",
       "\n",
       "   page_settings_scaled  page_submit_downgrade_scaled  \\\n",
       "0               0.00000                           0.0   \n",
       "1               0.04649                           0.0   \n",
       "2               0.00000                           0.0   \n",
       "3               0.02540                           0.0   \n",
       "4               0.01608                           0.0   \n",
       "\n",
       "   page_submit_upgrade_scaled  page_thumbs_down_scaled  page_thumbs_up_scaled  \\\n",
       "0                     0.00000                  0.19745                0.28852   \n",
       "1                     0.18421                  0.12366                0.42187   \n",
       "2                     0.00000                  0.00000                0.00000   \n",
       "3                     0.00000                  0.32047                0.26601   \n",
       "4                     0.00000                  0.11434                0.26407   \n",
       "\n",
       "   page_upgrade_scaled  \n",
       "0              0.16029  \n",
       "1              0.12099  \n",
       "2              0.00000  \n",
       "3              0.00000  \n",
       "4              0.00000  "
      ]
     },
     "execution_count": 78,
     "metadata": {},
     "output_type": "execute_result"
    }
   ],
   "source": [
    "df_pivot_page = df_pivot_normalize(df = df, \n",
    "                                   pivot_column_name = \"page\",\n",
    "                                   columns_to_drop=['sessionId','page_cancellation_confirmation','page_cancel'],\n",
    "                                  )\n",
    "df_pivot_page = df_scale(df_pivot_page)\n",
    "df_pivot_page.limit(5).toPandas()"
   ]
  },
  {
   "cell_type": "code",
   "execution_count": 79,
   "metadata": {},
   "outputs": [
    {
     "data": {
      "text/html": [
       "<div>\n",
       "<style scoped>\n",
       "    .dataframe tbody tr th:only-of-type {\n",
       "        vertical-align: middle;\n",
       "    }\n",
       "\n",
       "    .dataframe tbody tr th {\n",
       "        vertical-align: top;\n",
       "    }\n",
       "\n",
       "    .dataframe thead th {\n",
       "        text-align: right;\n",
       "    }\n",
       "</style>\n",
       "<table border=\"1\" class=\"dataframe\">\n",
       "  <thead>\n",
       "    <tr style=\"text-align: right;\">\n",
       "      <th></th>\n",
       "      <th>userId</th>\n",
       "      <th>songs_by_session_scaled</th>\n",
       "      <th>session_duration_scaled</th>\n",
       "      <th>event_count_by_session_scaled</th>\n",
       "      <th>total_sessions_scaled</th>\n",
       "    </tr>\n",
       "  </thead>\n",
       "  <tbody>\n",
       "    <tr>\n",
       "      <th>0</th>\n",
       "      <td>100010</td>\n",
       "      <td>0.12792</td>\n",
       "      <td>0.12574</td>\n",
       "      <td>0.14725</td>\n",
       "      <td>0.05660</td>\n",
       "    </tr>\n",
       "    <tr>\n",
       "      <th>1</th>\n",
       "      <td>200002</td>\n",
       "      <td>0.21680</td>\n",
       "      <td>0.22116</td>\n",
       "      <td>0.22196</td>\n",
       "      <td>0.04717</td>\n",
       "    </tr>\n",
       "    <tr>\n",
       "      <th>2</th>\n",
       "      <td>125</td>\n",
       "      <td>0.01763</td>\n",
       "      <td>0.01924</td>\n",
       "      <td>0.01520</td>\n",
       "      <td>0.00000</td>\n",
       "    </tr>\n",
       "    <tr>\n",
       "      <th>3</th>\n",
       "      <td>124</td>\n",
       "      <td>0.48527</td>\n",
       "      <td>0.48768</td>\n",
       "      <td>0.48764</td>\n",
       "      <td>0.26415</td>\n",
       "    </tr>\n",
       "    <tr>\n",
       "      <th>4</th>\n",
       "      <td>51</td>\n",
       "      <td>0.73361</td>\n",
       "      <td>0.73779</td>\n",
       "      <td>0.73095</td>\n",
       "      <td>0.08491</td>\n",
       "    </tr>\n",
       "  </tbody>\n",
       "</table>\n",
       "</div>"
      ],
      "text/plain": [
       "   userId  songs_by_session_scaled  session_duration_scaled  \\\n",
       "0  100010                  0.12792                  0.12574   \n",
       "1  200002                  0.21680                  0.22116   \n",
       "2     125                  0.01763                  0.01924   \n",
       "3     124                  0.48527                  0.48768   \n",
       "4      51                  0.73361                  0.73779   \n",
       "\n",
       "   event_count_by_session_scaled  total_sessions_scaled  \n",
       "0                        0.14725                0.05660  \n",
       "1                        0.22196                0.04717  \n",
       "2                        0.01520                0.00000  \n",
       "3                        0.48764                0.26415  \n",
       "4                        0.73095                0.08491  "
      ]
     },
     "execution_count": 79,
     "metadata": {},
     "output_type": "execute_result"
    }
   ],
   "source": [
    "df_session =  spark.sql(\"\"\"\n",
    "    WITH session as ( \n",
    "        SELECT  userId, \n",
    "                sessionId,\n",
    "                count(song) songs,\n",
    "                (max(ts) - min(ts))/360000.0 session_duration,\n",
    "                count(*) event_count\n",
    "            FROM Sparkify_churn_view\n",
    "            GROUP BY userId,sessionId\n",
    "        )\n",
    "    SELECT \n",
    "        userId,\n",
    "        avg(songs) songs_by_session,\n",
    "        avg(session_duration) session_duration,\n",
    "        avg(event_count) event_count_by_session,\n",
    "        count(*) total_sessions\n",
    "    FROM session\n",
    "    GROUP BY\n",
    "        userId\n",
    "\n",
    "\"\"\")\n",
    "df_session = df_scale(df_session)\n",
    "df_session.limit(5).toPandas()\n"
   ]
  },
  {
   "cell_type": "code",
   "execution_count": 80,
   "metadata": {},
   "outputs": [],
   "source": [
    "df_final = (df_user.join(df_pivot_day_week, on=['userId'], how='inner')\n",
    "            .join(df_session, on=['userId'], how='inner')\n",
    "            .join(df_pivot_browser, on=['userId'], how='inner')\n",
    "            .join(df_pivot_OS, on=['userId'], how='inner')\n",
    "            .join(df_pivot_page, on=['userId'], how='inner')\n",
    "           )"
   ]
  },
  {
   "cell_type": "code",
   "execution_count": 81,
   "metadata": {},
   "outputs": [
    {
     "name": "stdout",
     "output_type": "stream",
     "text": [
      "root\n",
      " |-- userId: string (nullable = true)\n",
      " |-- Churn: integer (nullable = true)\n",
      " |-- level: integer (nullable = true)\n",
      " |-- gender: integer (nullable = true)\n",
      " |-- lenght_avg_scaled: double (nullable = true)\n",
      " |-- day_of_week_1_scaled: double (nullable = true)\n",
      " |-- day_of_week_2_scaled: double (nullable = true)\n",
      " |-- day_of_week_3_scaled: double (nullable = true)\n",
      " |-- day_of_week_4_scaled: double (nullable = true)\n",
      " |-- day_of_week_5_scaled: double (nullable = true)\n",
      " |-- day_of_week_6_scaled: double (nullable = true)\n",
      " |-- day_of_week_7_scaled: double (nullable = true)\n",
      " |-- songs_by_session_scaled: double (nullable = true)\n",
      " |-- session_duration_scaled: double (nullable = true)\n",
      " |-- event_count_by_session_scaled: double (nullable = true)\n",
      " |-- total_sessions_scaled: double (nullable = true)\n",
      " |-- browser_chrome: integer (nullable = true)\n",
      " |-- browser_firefox: integer (nullable = true)\n",
      " |-- browser_ie: integer (nullable = true)\n",
      " |-- browser_mobile_safari: integer (nullable = true)\n",
      " |-- browser_safari: integer (nullable = true)\n",
      " |-- OS_linux: integer (nullable = true)\n",
      " |-- OS_mac_os_x: integer (nullable = true)\n",
      " |-- OS_ubuntu: integer (nullable = true)\n",
      " |-- OS_windows: integer (nullable = true)\n",
      " |-- OS_ios: integer (nullable = true)\n",
      " |-- page_about_scaled: double (nullable = true)\n",
      " |-- page_add_friend_scaled: double (nullable = true)\n",
      " |-- page_add_to_playlist_scaled: double (nullable = true)\n",
      " |-- page_downgrade_scaled: double (nullable = true)\n",
      " |-- page_error_scaled: double (nullable = true)\n",
      " |-- page_help_scaled: double (nullable = true)\n",
      " |-- page_home_scaled: double (nullable = true)\n",
      " |-- page_logout_scaled: double (nullable = true)\n",
      " |-- page_nextsong_scaled: double (nullable = true)\n",
      " |-- page_roll_advert_scaled: double (nullable = true)\n",
      " |-- page_save_settings_scaled: double (nullable = true)\n",
      " |-- page_settings_scaled: double (nullable = true)\n",
      " |-- page_submit_downgrade_scaled: double (nullable = true)\n",
      " |-- page_submit_upgrade_scaled: double (nullable = true)\n",
      " |-- page_thumbs_down_scaled: double (nullable = true)\n",
      " |-- page_thumbs_up_scaled: double (nullable = true)\n",
      " |-- page_upgrade_scaled: double (nullable = true)\n",
      "\n"
     ]
    }
   ],
   "source": [
    "df_final.printSchema()"
   ]
  },
  {
   "cell_type": "markdown",
   "metadata": {},
   "source": [
    "# Modeling\n",
    "Split the full dataset into train, test, and validation sets. Test out several of the machine learning methods you learned. Evaluate the accuracy of the various models, tuning parameters as necessary. Determine your winning model based on test accuracy and report results on the validation set. Since the churned users are a fairly small subset, I suggest using F1 score as the metric to optimize."
   ]
  },
  {
   "cell_type": "code",
   "execution_count": 82,
   "metadata": {},
   "outputs": [],
   "source": [
    "#creating features column\n",
    "assembler = VectorAssembler(\n",
    "    inputCols=[column for column in df_final.schema.names if column not in ['userId','Churn']],\n",
    "    outputCol=\"features\")\n",
    "df_output = assembler.transform(df_final)"
   ]
  },
  {
   "cell_type": "code",
   "execution_count": 83,
   "metadata": {},
   "outputs": [],
   "source": [
    "# spliting 70%  for training and 30% testing set\n",
    "df_train, df_test = df_output.randomSplit([0.7,0.3])"
   ]
  },
  {
   "cell_type": "code",
   "execution_count": 84,
   "metadata": {},
   "outputs": [],
   "source": [
    "# Generate models\n",
    "dtc=DecisionTreeClassifier(labelCol='Churn',featuresCol='features',seed=8)\n",
    "gbt=GBTClassifier(labelCol='Churn',featuresCol='features',seed=8)\n",
    "rfc=RandomForestClassifier(labelCol='Churn',featuresCol='features',numTrees=300)\n",
    "svm = LinearSVC(labelCol='Churn',featuresCol='features')"
   ]
  },
  {
   "cell_type": "code",
   "execution_count": 86,
   "metadata": {},
   "outputs": [
    {
     "name": "stdout",
     "output_type": "stream",
     "text": [
      "DecisionTreeClassifier: \n",
      "    Training data\n",
      "        training time: 482.285003\n",
      "    predict\n",
      "        prediction time: 0.132027\n",
      "    evaluation of testing data\n",
      "        evaluation time: 456.859129\n",
      "\n",
      "        accuracy-score: 0.6617647058823529 F1-score: 0.6460413354531002\n",
      "GBTClassifier: \n",
      "    Training data\n",
      "        training time: 741.4513\n",
      "    predict\n",
      "        prediction time: 0.208214\n",
      "    evaluation of testing data\n",
      "        evaluation time: 431.491969\n",
      "\n",
      "        accuracy-score: 0.6323529411764706 F1-score: 0.6272311167076413\n",
      "RandomForestClassifier: \n",
      "    Training data\n",
      "        training time: 528.969728\n",
      "    predict\n",
      "        prediction time: 0.171576\n",
      "    evaluation of testing data\n",
      "        evaluation time: 435.798042\n",
      "\n",
      "        accuracy-score: 0.7794117647058824 F1-score: 0.7182402372713792\n",
      "LinearSVC: \n",
      "    Training data\n",
      "        training time: 1895.78658\n",
      "    predict\n",
      "        prediction time: 0.0881\n",
      "    evaluation of testing data\n",
      "        evaluation time: 429.042291\n",
      "\n",
      "        accuracy-score: 0.8382352941176471 F1-score: 0.8061443200762086\n"
     ]
    }
   ],
   "source": [
    "results ={}\n",
    "for classifier in [dtc, gbt, rfc, svm]:\n",
    "    model_results = {}\n",
    "    # get the classifier name\n",
    "    classifier_name = classifier.__class__.__name__\n",
    "    \n",
    "    # train the dataset\n",
    "    print(f'{classifier_name}: ')\n",
    "    print(f'    Training data...')\n",
    "    start_time = time.time() \n",
    "    model = classifier.fit(df_train)\n",
    "    model_results['training_time'] = round(time.time() - start_time,6)\n",
    "    print('        training time: '+ str(model_results['training_time']))\n",
    "    \n",
    "    # predict data\n",
    "    print(f'    predict...')\n",
    "    start_time = time.time() \n",
    "    pred_test = model.transform(df_test)\n",
    "    model_results['prediction_time'] = round(time.time()-start_time,6)\n",
    "    print('        prediction time: '+ str(model_results['prediction_time']))\n",
    "    \n",
    "    #metrics\n",
    "    print(f'    evaluation of testing data')    \n",
    "    start_time = time.time() \n",
    "    metric_accuracy = MulticlassClassificationEvaluator(labelCol=\"Churn\",predictionCol=\"prediction\",metricName=\"accuracy\")\n",
    "    metric_f1 = MulticlassClassificationEvaluator(labelCol=\"Churn\",predictionCol=\"prediction\",metricName=\"f1\")\n",
    "    \n",
    "    model_results['accuracy_score'] = metric_accuracy.evaluate(pred_test)\n",
    "    model_results['f1_score'] = metric_f1.evaluate(pred_test)\n",
    "    \n",
    "    model_results['evaluation_time'] = round(time.time()-start_time,6)\n",
    "    print('        evaluation time: '+ str(model_results['evaluation_time']))\n",
    "    print('')\n",
    "    print('        accuracy-score: '+str(model_results[\"accuracy_score\"])+' F1-score: '+str(model_results[\"f1_score\"]))\n",
    "    results[classifier] = model_results\n",
    "    \n",
    "\n",
    "    "
   ]
  },
  {
   "cell_type": "code",
   "execution_count": 89,
   "metadata": {},
   "outputs": [],
   "source": [
    "df_results.columns =['DecisionTreeClassifier','GBTClassifier','RandomForestClassifier','LinearSVC']"
   ]
  },
  {
   "cell_type": "code",
   "execution_count": 92,
   "metadata": {},
   "outputs": [
    {
     "data": {
      "text/html": [
       "<div>\n",
       "<style scoped>\n",
       "    .dataframe tbody tr th:only-of-type {\n",
       "        vertical-align: middle;\n",
       "    }\n",
       "\n",
       "    .dataframe tbody tr th {\n",
       "        vertical-align: top;\n",
       "    }\n",
       "\n",
       "    .dataframe thead th {\n",
       "        text-align: right;\n",
       "    }\n",
       "</style>\n",
       "<table border=\"1\" class=\"dataframe\">\n",
       "  <thead>\n",
       "    <tr style=\"text-align: right;\">\n",
       "      <th></th>\n",
       "      <th>DecisionTreeClassifier_fdf591f7a55f</th>\n",
       "      <th>GBTClassifier_99295674a3d2</th>\n",
       "      <th>RandomForestClassifier_171afa36ff18</th>\n",
       "      <th>LinearSVC_433c7818f774</th>\n",
       "    </tr>\n",
       "  </thead>\n",
       "  <tbody>\n",
       "    <tr>\n",
       "      <th>accuracy_score</th>\n",
       "      <td>0.661765</td>\n",
       "      <td>0.632353</td>\n",
       "      <td>0.779412</td>\n",
       "      <td>0.838235</td>\n",
       "    </tr>\n",
       "    <tr>\n",
       "      <th>evaluation_time</th>\n",
       "      <td>456.859129</td>\n",
       "      <td>431.491969</td>\n",
       "      <td>435.798042</td>\n",
       "      <td>429.042291</td>\n",
       "    </tr>\n",
       "    <tr>\n",
       "      <th>f1_score</th>\n",
       "      <td>0.646041</td>\n",
       "      <td>0.627231</td>\n",
       "      <td>0.718240</td>\n",
       "      <td>0.806144</td>\n",
       "    </tr>\n",
       "    <tr>\n",
       "      <th>prediction_time</th>\n",
       "      <td>0.132027</td>\n",
       "      <td>0.208214</td>\n",
       "      <td>0.171576</td>\n",
       "      <td>0.088100</td>\n",
       "    </tr>\n",
       "    <tr>\n",
       "      <th>training_time</th>\n",
       "      <td>482.285003</td>\n",
       "      <td>741.451300</td>\n",
       "      <td>528.969728</td>\n",
       "      <td>1895.786580</td>\n",
       "    </tr>\n",
       "  </tbody>\n",
       "</table>\n",
       "</div>"
      ],
      "text/plain": [
       "                 DecisionTreeClassifier_fdf591f7a55f  \\\n",
       "accuracy_score                              0.661765   \n",
       "evaluation_time                           456.859129   \n",
       "f1_score                                    0.646041   \n",
       "prediction_time                             0.132027   \n",
       "training_time                             482.285003   \n",
       "\n",
       "                 GBTClassifier_99295674a3d2  \\\n",
       "accuracy_score                     0.632353   \n",
       "evaluation_time                  431.491969   \n",
       "f1_score                           0.627231   \n",
       "prediction_time                    0.208214   \n",
       "training_time                    741.451300   \n",
       "\n",
       "                 RandomForestClassifier_171afa36ff18  LinearSVC_433c7818f774  \n",
       "accuracy_score                              0.779412                0.838235  \n",
       "evaluation_time                           435.798042              429.042291  \n",
       "f1_score                                    0.718240                0.806144  \n",
       "prediction_time                             0.171576                0.088100  \n",
       "training_time                             528.969728             1895.786580  "
      ]
     },
     "execution_count": 92,
     "metadata": {},
     "output_type": "execute_result"
    }
   ],
   "source": [
    "df_results = pd.DataFrame(results)\n",
    "df_results.to_csv('results.csv')\n",
    "df_results.head()"
   ]
  },
  {
   "cell_type": "markdown",
   "metadata": {},
   "source": [
    "# Final Steps\n",
    "Clean up your code, adding comments and renaming variables to make the code easier to read and maintain. Refer to the Spark Project Overview page and Data Scientist Capstone Project Rubric to make sure you are including all components of the capstone project and meet all expectations. Remember, this includes thorough documentation in a README file in a Github repository, as well as a web app or blog post."
   ]
  },
  {
   "cell_type": "code",
   "execution_count": null,
   "metadata": {},
   "outputs": [],
   "source": []
  },
  {
   "cell_type": "code",
   "execution_count": null,
   "metadata": {},
   "outputs": [],
   "source": []
  }
 ],
 "metadata": {
  "kernelspec": {
   "display_name": "Python 3",
   "language": "python",
   "name": "python3"
  },
  "language_info": {
   "codemirror_mode": {
    "name": "ipython",
    "version": 3
   },
   "file_extension": ".py",
   "mimetype": "text/x-python",
   "name": "python",
   "nbconvert_exporter": "python",
   "pygments_lexer": "ipython3",
   "version": "3.6.3"
  }
 },
 "nbformat": 4,
 "nbformat_minor": 2
}
